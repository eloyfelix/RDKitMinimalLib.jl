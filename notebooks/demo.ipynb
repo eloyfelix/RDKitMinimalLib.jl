{
 "cells": [
  {
   "cell_type": "markdown",
   "id": "connected-neighbor",
   "metadata": {},
   "source": [
    "# RDKitMinimalLib usage examples"
   ]
  },
  {
   "cell_type": "code",
   "execution_count": 1,
   "id": "korean-smile",
   "metadata": {},
   "outputs": [],
   "source": [
    "using RDKitMinimalLib"
   ]
  },
  {
   "cell_type": "markdown",
   "id": "dirty-calculator",
   "metadata": {},
   "source": [
    "## Read a molecule from a molblock, display it and get many different structure representations"
   ]
  },
  {
   "cell_type": "code",
   "execution_count": 2,
   "id": "serious-visibility",
   "metadata": {},
   "outputs": [
    {
     "data": {
      "image/svg+xml": [
       "<?xml version='1.0' encoding='iso-8859-1'?>\n",
       "<svg version='1.1' baseProfile='full'\n",
       "              xmlns='http://www.w3.org/2000/svg'\n",
       "                      xmlns:rdkit='http://www.rdkit.org/xml'\n",
       "                      xmlns:xlink='http://www.w3.org/1999/xlink'\n",
       "                  xml:space='preserve'\n",
       "width='350px' height='350px' viewBox='0 0 350 350'>\n",
       "<!-- END OF HEADER -->\n",
       "<rect style='opacity:1.0;fill:#FFFFFF;stroke:none' width='350' height='350' x='0' y='0'> </rect>\n",
       "<path class='bond-0 atom-0 atom-1' d='M 57.1561,126.456 L 57.062,191.336' style='fill:none;fill-rule:evenodd;stroke:#000000;stroke-width:2.0px;stroke-linecap:butt;stroke-linejoin:miter;stroke-opacity:1' />\n",
       "<path class='bond-0 atom-0 atom-1' d='M 71.2582,136.208 L 71.1923,181.624' style='fill:none;fill-rule:evenodd;stroke:#000000;stroke-width:2.0px;stroke-linecap:butt;stroke-linejoin:miter;stroke-opacity:1' />\n",
       "<path class='bond-11 atom-5 atom-0' d='M 112.978,94.0826 L 57.1561,126.456' style='fill:none;fill-rule:evenodd;stroke:#000000;stroke-width:2.0px;stroke-linecap:butt;stroke-linejoin:miter;stroke-opacity:1' />\n",
       "<path class='bond-7 atom-1 atom-2' d='M 57.062,191.336 L 113.119,223.709' style='fill:none;fill-rule:evenodd;stroke:#000000;stroke-width:2.0px;stroke-linecap:butt;stroke-linejoin:miter;stroke-opacity:1' />\n",
       "<path class='bond-2 atom-2 atom-3' d='M 113.119,223.709 L 169.302,191.297' style='fill:none;fill-rule:evenodd;stroke:#000000;stroke-width:2.0px;stroke-linecap:butt;stroke-linejoin:miter;stroke-opacity:1' />\n",
       "<path class='bond-2 atom-2 atom-3' d='M 114.492,206.62 L 153.82,183.931' style='fill:none;fill-rule:evenodd;stroke:#000000;stroke-width:2.0px;stroke-linecap:butt;stroke-linejoin:miter;stroke-opacity:1' />\n",
       "<path class='bond-4 atom-3 atom-8' d='M 169.302,191.297 L 190.795,203.663' style='fill:none;fill-rule:evenodd;stroke:#000000;stroke-width:2.0px;stroke-linecap:butt;stroke-linejoin:miter;stroke-opacity:1' />\n",
       "<path class='bond-4 atom-3 atom-8' d='M 190.795,203.663 L 212.288,216.03' style='fill:none;fill-rule:evenodd;stroke:#FF0000;stroke-width:2.0px;stroke-linecap:butt;stroke-linejoin:miter;stroke-opacity:1' />\n",
       "<path class='bond-5 atom-3 atom-4' d='M 169.302,191.297 L 169.074,126.174' style='fill:none;fill-rule:evenodd;stroke:#000000;stroke-width:2.0px;stroke-linecap:butt;stroke-linejoin:miter;stroke-opacity:1' />\n",
       "<path class='bond-1 atom-4 atom-6' d='M 169.074,126.174 L 224.983,93.6121' style='fill:none;fill-rule:evenodd;stroke:#000000;stroke-width:2.0px;stroke-linecap:butt;stroke-linejoin:miter;stroke-opacity:1' />\n",
       "<path class='bond-9 atom-4 atom-5' d='M 169.074,126.174 L 112.978,94.0826' style='fill:none;fill-rule:evenodd;stroke:#000000;stroke-width:2.0px;stroke-linecap:butt;stroke-linejoin:miter;stroke-opacity:1' />\n",
       "<path class='bond-9 atom-4 atom-5' d='M 153.65,133.613 L 114.383,111.149' style='fill:none;fill-rule:evenodd;stroke:#000000;stroke-width:2.0px;stroke-linecap:butt;stroke-linejoin:miter;stroke-opacity:1' />\n",
       "<path class='bond-3 atom-6 atom-7' d='M 221.476,99.7376 L 243.005,112.061' style='fill:none;fill-rule:evenodd;stroke:#000000;stroke-width:2.0px;stroke-linecap:butt;stroke-linejoin:miter;stroke-opacity:1' />\n",
       "<path class='bond-3 atom-6 atom-7' d='M 243.005,112.061 L 264.533,124.384' style='fill:none;fill-rule:evenodd;stroke:#FF0000;stroke-width:2.0px;stroke-linecap:butt;stroke-linejoin:miter;stroke-opacity:1' />\n",
       "<path class='bond-3 atom-6 atom-7' d='M 228.489,87.4865 L 250.017,99.8099' style='fill:none;fill-rule:evenodd;stroke:#000000;stroke-width:2.0px;stroke-linecap:butt;stroke-linejoin:miter;stroke-opacity:1' />\n",
       "<path class='bond-3 atom-6 atom-7' d='M 250.017,99.8099 L 271.546,112.133' style='fill:none;fill-rule:evenodd;stroke:#FF0000;stroke-width:2.0px;stroke-linecap:butt;stroke-linejoin:miter;stroke-opacity:1' />\n",
       "<path class='bond-12 atom-6 atom-12' d='M 224.983,93.6121 L 224.886,68.586' style='fill:none;fill-rule:evenodd;stroke:#000000;stroke-width:2.0px;stroke-linecap:butt;stroke-linejoin:miter;stroke-opacity:1' />\n",
       "<path class='bond-12 atom-6 atom-12' d='M 224.886,68.586 L 224.788,43.56' style='fill:none;fill-rule:evenodd;stroke:#FF0000;stroke-width:2.0px;stroke-linecap:butt;stroke-linejoin:miter;stroke-opacity:1' />\n",
       "<path class='bond-6 atom-8 atom-9' d='M 225.398,238.2 L 225.437,263.226' style='fill:none;fill-rule:evenodd;stroke:#FF0000;stroke-width:2.0px;stroke-linecap:butt;stroke-linejoin:miter;stroke-opacity:1' />\n",
       "<path class='bond-6 atom-8 atom-9' d='M 225.437,263.226 L 225.477,288.252' style='fill:none;fill-rule:evenodd;stroke:#000000;stroke-width:2.0px;stroke-linecap:butt;stroke-linejoin:miter;stroke-opacity:1' />\n",
       "<path class='bond-8 atom-9 atom-10' d='M 225.477,288.252 L 281.55,320.499' style='fill:none;fill-rule:evenodd;stroke:#000000;stroke-width:2.0px;stroke-linecap:butt;stroke-linejoin:miter;stroke-opacity:1' />\n",
       "<path class='bond-10 atom-9 atom-11' d='M 221.938,282.144 L 200.496,294.568' style='fill:none;fill-rule:evenodd;stroke:#000000;stroke-width:2.0px;stroke-linecap:butt;stroke-linejoin:miter;stroke-opacity:1' />\n",
       "<path class='bond-10 atom-9 atom-11' d='M 200.496,294.568 L 179.054,306.991' style='fill:none;fill-rule:evenodd;stroke:#FF0000;stroke-width:2.0px;stroke-linecap:butt;stroke-linejoin:miter;stroke-opacity:1' />\n",
       "<path class='bond-10 atom-9 atom-11' d='M 229.015,294.359 L 207.573,306.782' style='fill:none;fill-rule:evenodd;stroke:#000000;stroke-width:2.0px;stroke-linecap:butt;stroke-linejoin:miter;stroke-opacity:1' />\n",
       "<path class='bond-10 atom-9 atom-11' d='M 207.573,306.782 L 186.131,319.205' style='fill:none;fill-rule:evenodd;stroke:#FF0000;stroke-width:2.0px;stroke-linecap:butt;stroke-linejoin:miter;stroke-opacity:1' />\n",
       "<path  class='atom-7' d='M 269.657 125.821\n",
       "Q 269.657 119.821, 272.621 116.469\n",
       "Q 275.585 113.116, 281.126 113.116\n",
       "Q 286.667 113.116, 289.631 116.469\n",
       "Q 292.596 119.821, 292.596 125.821\n",
       "Q 292.596 131.891, 289.596 135.349\n",
       "Q 286.596 138.772, 281.126 138.772\n",
       "Q 275.621 138.772, 272.621 135.349\n",
       "Q 269.657 131.926, 269.657 125.821\n",
       "M 281.126 135.949\n",
       "Q 284.937 135.949, 286.984 133.408\n",
       "Q 289.066 130.832, 289.066 125.821\n",
       "Q 289.066 120.915, 286.984 118.445\n",
       "Q 284.937 115.939, 281.126 115.939\n",
       "Q 277.315 115.939, 275.233 118.41\n",
       "Q 273.186 120.88, 273.186 125.821\n",
       "Q 273.186 130.867, 275.233 133.408\n",
       "Q 277.315 135.949, 281.126 135.949\n",
       "' fill='#FF0000'/>\n",
       "<path  class='atom-8' d='M 213.905 223.631\n",
       "Q 213.905 217.631, 216.87 214.279\n",
       "Q 219.834 210.926, 225.375 210.926\n",
       "Q 230.915 210.926, 233.88 214.279\n",
       "Q 236.844 217.631, 236.844 223.631\n",
       "Q 236.844 229.701, 233.844 233.159\n",
       "Q 230.845 236.582, 225.375 236.582\n",
       "Q 219.869 236.582, 216.87 233.159\n",
       "Q 213.905 229.736, 213.905 223.631\n",
       "M 225.375 233.759\n",
       "Q 229.186 233.759, 231.233 231.218\n",
       "Q 233.315 228.642, 233.315 223.631\n",
       "Q 233.315 218.725, 231.233 216.255\n",
       "Q 229.186 213.749, 225.375 213.749\n",
       "Q 221.563 213.749, 219.481 216.22\n",
       "Q 217.434 218.69, 217.434 223.631\n",
       "Q 217.434 228.677, 219.481 231.218\n",
       "Q 221.563 233.759, 225.375 233.759\n",
       "' fill='#FF0000'/>\n",
       "<path  class='atom-11' d='M 158.036 320.75\n",
       "Q 158.036 314.751, 161.001 311.398\n",
       "Q 163.965 308.046, 169.506 308.046\n",
       "Q 175.046 308.046, 178.011 311.398\n",
       "Q 180.975 314.751, 180.975 320.75\n",
       "Q 180.975 326.82, 177.975 330.279\n",
       "Q 174.976 333.702, 169.506 333.702\n",
       "Q 164 333.702, 161.001 330.279\n",
       "Q 158.036 326.856, 158.036 320.75\n",
       "M 169.506 330.879\n",
       "Q 173.317 330.879, 175.364 328.338\n",
       "Q 177.446 325.762, 177.446 320.75\n",
       "Q 177.446 315.845, 175.364 313.375\n",
       "Q 173.317 310.869, 169.506 310.869\n",
       "Q 165.694 310.869, 163.612 313.339\n",
       "Q 161.565 315.81, 161.565 320.75\n",
       "Q 161.565 325.797, 163.612 328.338\n",
       "Q 165.694 330.879, 169.506 330.879\n",
       "' fill='#FF0000'/>\n",
       "<path  class='atom-12' d='M 213.262 28.991\n",
       "Q 213.262 22.9916, 216.227 19.639\n",
       "Q 219.191 16.2864, 224.732 16.2864\n",
       "Q 230.272 16.2864, 233.237 19.639\n",
       "Q 236.201 22.9916, 236.201 28.991\n",
       "Q 236.201 35.061, 233.201 38.5195\n",
       "Q 230.202 41.9427, 224.732 41.9427\n",
       "Q 219.226 41.9427, 216.227 38.5195\n",
       "Q 213.262 35.0963, 213.262 28.991\n",
       "M 224.732 39.1194\n",
       "Q 228.543 39.1194, 230.59 36.5785\n",
       "Q 232.672 34.0023, 232.672 28.991\n",
       "Q 232.672 24.0856, 230.59 21.6153\n",
       "Q 228.543 19.1096, 224.732 19.1096\n",
       "Q 220.92 19.1096, 218.838 21.58\n",
       "Q 216.791 24.0503, 216.791 28.991\n",
       "Q 216.791 34.0376, 218.838 36.5785\n",
       "Q 220.92 39.1194, 224.732 39.1194\n",
       "' fill='#FF0000'/>\n",
       "<path  class='atom-12' d='M 239.201 16.5687\n",
       "L 242.589 16.5687\n",
       "L 242.589 27.1912\n",
       "L 255.364 27.1912\n",
       "L 255.364 16.5687\n",
       "L 258.752 16.5687\n",
       "L 258.752 41.5545\n",
       "L 255.364 41.5545\n",
       "L 255.364 30.0144\n",
       "L 242.589 30.0144\n",
       "L 242.589 41.5545\n",
       "L 239.201 41.5545\n",
       "L 239.201 16.5687\n",
       "' fill='#FF0000'/>\n",
       "</svg>\n"
      ]
     },
     "metadata": {},
     "output_type": "display_data"
    },
    {
     "name": "stdout",
     "output_type": "stream",
     "text": [
      "CC(=O)Oc1ccccc1C(=O)O\n",
      "CC(=O)Oc1ccccc1C(=O)O |(11.7423,-4.5949,;11.0273,-4.1837,;10.3136,-4.5972,;11.026,-3.3588,;10.311,-2.9474,;9.5946,-3.3607,;8.8798,-2.9479,;8.881,-2.1206,;9.5928,-1.7078,;10.3081,-2.117,;11.021,-1.7018,;11.7369,-2.1116,;11.0178,-0.8769,)|\n",
      "InChI=1S/C9H8O4/c1-6(10)13-8-5-3-2-4-7(8)9(11)12/h2-5H,1H3,(H,11,12)\n",
      "BSYNRYMUTXBXSQ-UHFFFAOYSA-N\n",
      "{\"commonchem\":{\"version\":10},\"defaults\":{\"atom\":{\"z\":6,\"impHs\":0,\"chg\":0,\"nRad\":0,\"isotope\":0,\"stereo\":\"unspecified\"},\"bond\":{\"bo\":1,\"stereo\":\"unspecified\"}},\"molecules\":[{\"name\":\"\",\"atoms\":[{\"impHs\":1},{\"impHs\":1},{\"impHs\":1},{},{},{\"impHs\":1},{},{\"z\":8},{\"z\":8},{},{\"impHs\":3},{\"z\":8},{\"z\":8,\"impHs\":1}],\"bonds\":[{\"bo\":2,\"atoms\":[0,1]},{\"atoms\":[4,6]},{\"bo\":2,\"atoms\":[2,3]},{\"bo\":2,\"atoms\":[6,7]},{\"atoms\":[3,8]},{\"atoms\":[3,4]},{\"atoms\":[8,9]},{\"atoms\":[1,2]},{\"atoms\":[9,10]},{\"bo\":2,\"atoms\":[4,5]},{\"bo\":2,\"atoms\":[9,11]},{\"atoms\":[5,0]},{\"atoms\":[6,12]}],\"conformers\":[{\"dim\":2,\"coords\":[[8.881,-2.1206],[8.8798,-2.9479],[9.5946,-3.3607],[10.311,-2.9474],[10.3081,-2.117],[9.5928,-1.7078],[11.021,-1.7018],[11.7369,-2.1116],[11.026,-3.3588],[11.0273,-4.1837],[11.7423,-4.5949],[10.3136,-4.5972],[11.0178,-0.8769]]}],\"extensions\":[{\"name\":\"rdkitRepresentation\",\"formatVersion\":2,\"toolkitVersion\":\"2021.09.1pre\",\"aromaticAtoms\":[0,1,2,3,4,5],\"aromaticBonds\":[0,2,5,7,9,11],\"atomRings\":[[0,5,4,3,2,1]]}]}]}\n"
     ]
    }
   ],
   "source": [
    "molblock = \"\"\"\n",
    "\n",
    "     RDKit          2D\n",
    "\n",
    " 13 13  0  0  0  0  0  0  0  0999 V2000\n",
    "    8.8810   -2.1206    0.0000 C   0  0  0  0  0  0  0  0  0  0  0  0\n",
    "    8.8798   -2.9479    0.0000 C   0  0  0  0  0  0  0  0  0  0  0  0\n",
    "    9.5946   -3.3607    0.0000 C   0  0  0  0  0  0  0  0  0  0  0  0\n",
    "   10.3110   -2.9474    0.0000 C   0  0  0  0  0  0  0  0  0  0  0  0\n",
    "   10.3081   -2.1170    0.0000 C   0  0  0  0  0  0  0  0  0  0  0  0\n",
    "    9.5928   -1.7078    0.0000 C   0  0  0  0  0  0  0  0  0  0  0  0\n",
    "   11.0210   -1.7018    0.0000 C   0  0  0  0  0  0  0  0  0  0  0  0\n",
    "   11.7369   -2.1116    0.0000 O   0  0  0  0  0  0  0  0  0  0  0  0\n",
    "   11.0260   -3.3588    0.0000 O   0  0  0  0  0  0  0  0  0  0  0  0\n",
    "   11.0273   -4.1837    0.0000 C   0  0  0  0  0  0  0  0  0  0  0  0\n",
    "   11.7423   -4.5949    0.0000 C   0  0  0  0  0  0  0  0  0  0  0  0\n",
    "   10.3136   -4.5972    0.0000 O   0  0  0  0  0  0  0  0  0  0  0  0\n",
    "   11.0178   -0.8769    0.0000 O   0  0  0  0  0  0  0  0  0  0  0  0\n",
    "  1  2  2  0\n",
    "  5  7  1  0\n",
    "  3  4  2  0\n",
    "  7  8  2  0\n",
    "  4  9  1  0\n",
    "  4  5  1  0\n",
    "  9 10  1  0\n",
    "  2  3  1  0\n",
    " 10 11  1  0\n",
    "  5  6  2  0\n",
    " 10 12  2  0\n",
    "  6  1  1  0\n",
    "  7 13  1  0\n",
    "M  END\n",
    "\"\"\"\n",
    "\n",
    "mol = get_mol(molblock)\n",
    "svg = get_svg(mol, Dict{String, Any}(\"height\" => 350, \"width\" => 350))\n",
    "display(\"image/svg+xml\", svg)\n",
    "println(get_smiles(mol))\n",
    "println(get_cxsmiles(mol))\n",
    "inchi = get_inchi(mol)\n",
    "println(inchi)\n",
    "println(get_inchikey_for_inchi(inchi))\n",
    "println(get_json(mol))"
   ]
  },
  {
   "cell_type": "markdown",
   "id": "fuzzy-grant",
   "metadata": {},
   "source": [
    "## Read a molecule from SMILES, set 2D coordinates and get its v3kmolblock"
   ]
  },
  {
   "cell_type": "code",
   "execution_count": 3,
   "id": "clear-division",
   "metadata": {},
   "outputs": [
    {
     "name": "stdout",
     "output_type": "stream",
     "text": [
      "\n",
      "     RDKit          2D\n",
      "\n",
      "  0  0  0  0  0  0  0  0  0  0999 V3000\n",
      "M  V30 BEGIN CTAB\n",
      "M  V30 COUNTS 13 13 0 0 0\n",
      "M  V30 BEGIN ATOM\n",
      "M  V30 1 C -2.663969 0.313031 0.000000 0\n",
      "M  V30 2 C -1.798969 -0.188769 0.000000 0\n",
      "M  V30 3 O -1.801169 -1.188769 0.000000 0\n",
      "M  V30 4 O -0.931969 0.309631 0.000000 0\n",
      "M  V30 5 C -0.067169 -0.192169 0.000000 0\n",
      "M  V30 6 C -0.068969 -1.192169 0.000000 0\n",
      "M  V30 7 C 0.796031 -1.693969 0.000000 0\n",
      "M  V30 8 C 1.663031 -1.195569 0.000000 0\n",
      "M  V30 9 C 1.665031 -0.195569 0.000000 0\n",
      "M  V30 10 C 0.800031 0.306231 0.000000 0\n",
      "M  V30 11 C 0.802031 1.306031 0.000000 0\n",
      "M  V30 12 O -0.062969 1.807831 0.000000 0\n",
      "M  V30 13 O 1.669031 1.804231 0.000000 0\n",
      "M  V30 END ATOM\n",
      "M  V30 BEGIN BOND\n",
      "M  V30 1 1 1 2\n",
      "M  V30 2 2 2 3\n",
      "M  V30 3 1 2 4\n",
      "M  V30 4 1 4 5\n",
      "M  V30 5 2 5 6\n",
      "M  V30 6 1 6 7\n",
      "M  V30 7 2 7 8\n",
      "M  V30 8 1 8 9\n",
      "M  V30 9 2 9 10\n",
      "M  V30 10 1 10 11\n",
      "M  V30 11 2 11 12\n",
      "M  V30 12 1 11 13\n",
      "M  V30 13 1 10 5\n",
      "M  V30 END BOND\n",
      "M  V30 END CTAB\n",
      "M  END\n",
      "\n"
     ]
    }
   ],
   "source": [
    "mol = get_mol(\"CC(=O)Oc1ccccc1C(=O)O\")\n",
    "# use CoordGenlib for coordinate generation\n",
    "prefer_coordgen(1)\n",
    "set_2d_coords(mol)\n",
    "println(get_v3kmolblock(mol))"
   ]
  },
  {
   "cell_type": "markdown",
   "id": "balanced-calculation",
   "metadata": {},
   "source": [
    "## Load a query mol and check for a substructure match"
   ]
  },
  {
   "cell_type": "code",
   "execution_count": 4,
   "id": "rotary-clock",
   "metadata": {},
   "outputs": [
    {
     "data": {
      "image/svg+xml": [
       "<?xml version='1.0' encoding='iso-8859-1'?>\n",
       "<svg version='1.1' baseProfile='full'\n",
       "              xmlns='http://www.w3.org/2000/svg'\n",
       "                      xmlns:rdkit='http://www.rdkit.org/xml'\n",
       "                      xmlns:xlink='http://www.w3.org/1999/xlink'\n",
       "                  xml:space='preserve'\n",
       "width='350px' height='350px' viewBox='0 0 350 350'>\n",
       "<!-- END OF HEADER -->\n",
       "<rect style='opacity:1.0;fill:#FFFFFF;stroke:none' width='350' height='350' x='0' y='0'> </rect>\n",
       "<path d='M 185.614,187.978 L 185.497,253.329' style='fill:none;fill-rule:evenodd;stroke:#FF7F7F;stroke-width:20.9px;stroke-linecap:butt;stroke-linejoin:miter;stroke-opacity:1' />\n",
       "<path d='M 185.614,187.978 L 242.287,155.406' style='fill:none;fill-rule:evenodd;stroke:#FF7F7F;stroke-width:20.9px;stroke-linecap:butt;stroke-linejoin:miter;stroke-opacity:1' />\n",
       "<path d='M 185.497,253.329 L 242.026,286.123' style='fill:none;fill-rule:evenodd;stroke:#FF7F7F;stroke-width:20.9px;stroke-linecap:butt;stroke-linejoin:miter;stroke-opacity:1' />\n",
       "<path d='M 242.026,286.123 L 298.686,253.552' style='fill:none;fill-rule:evenodd;stroke:#FF7F7F;stroke-width:20.9px;stroke-linecap:butt;stroke-linejoin:miter;stroke-opacity:1' />\n",
       "<path d='M 298.686,253.552 L 298.817,188.2' style='fill:none;fill-rule:evenodd;stroke:#FF7F7F;stroke-width:20.9px;stroke-linecap:butt;stroke-linejoin:miter;stroke-opacity:1' />\n",
       "<path d='M 298.817,188.2 L 242.287,155.406' style='fill:none;fill-rule:evenodd;stroke:#FF7F7F;stroke-width:20.9px;stroke-linecap:butt;stroke-linejoin:miter;stroke-opacity:1' />\n",
       "<ellipse cx='185.614' cy='187.978' rx='19.6055' ry='19.6055'  style='fill:#FF7F7F;fill-rule:evenodd;stroke:#FF7F7F;stroke-width:1.0px;stroke-linecap:butt;stroke-linejoin:miter;stroke-opacity:1' />\n",
       "<ellipse cx='185.497' cy='253.329' rx='19.6055' ry='19.6055'  style='fill:#FF7F7F;fill-rule:evenodd;stroke:#FF7F7F;stroke-width:1.0px;stroke-linecap:butt;stroke-linejoin:miter;stroke-opacity:1' />\n",
       "<ellipse cx='242.026' cy='286.123' rx='19.6055' ry='19.6055'  style='fill:#FF7F7F;fill-rule:evenodd;stroke:#FF7F7F;stroke-width:1.0px;stroke-linecap:butt;stroke-linejoin:miter;stroke-opacity:1' />\n",
       "<ellipse cx='298.686' cy='253.552' rx='19.6055' ry='19.6055'  style='fill:#FF7F7F;fill-rule:evenodd;stroke:#FF7F7F;stroke-width:1.0px;stroke-linecap:butt;stroke-linejoin:miter;stroke-opacity:1' />\n",
       "<ellipse cx='298.817' cy='188.2' rx='19.6055' ry='19.6055'  style='fill:#FF7F7F;fill-rule:evenodd;stroke:#FF7F7F;stroke-width:1.0px;stroke-linecap:butt;stroke-linejoin:miter;stroke-opacity:1' />\n",
       "<ellipse cx='242.287' cy='155.406' rx='19.6055' ry='19.6055'  style='fill:#FF7F7F;fill-rule:evenodd;stroke:#FF7F7F;stroke-width:1.0px;stroke-linecap:butt;stroke-linejoin:miter;stroke-opacity:1' />\n",
       "<path class='bond-0 atom-0 atom-1' d='M 15.9091,154.962 L 72.4383,187.756' style='fill:none;fill-rule:evenodd;stroke:#000000;stroke-width:2.0px;stroke-linecap:butt;stroke-linejoin:miter;stroke-opacity:1' />\n",
       "<path class='bond-1 atom-1 atom-2' d='M 66.5567,187.743 L 66.4982,214.337' style='fill:none;fill-rule:evenodd;stroke:#000000;stroke-width:2.0px;stroke-linecap:butt;stroke-linejoin:miter;stroke-opacity:1' />\n",
       "<path class='bond-1 atom-1 atom-2' d='M 66.4982,214.337 L 66.4397,240.932' style='fill:none;fill-rule:evenodd;stroke:#FF0000;stroke-width:2.0px;stroke-linecap:butt;stroke-linejoin:miter;stroke-opacity:1' />\n",
       "<path class='bond-1 atom-1 atom-2' d='M 78.32,187.768 L 78.2615,214.363' style='fill:none;fill-rule:evenodd;stroke:#000000;stroke-width:2.0px;stroke-linecap:butt;stroke-linejoin:miter;stroke-opacity:1' />\n",
       "<path class='bond-1 atom-1 atom-2' d='M 78.2615,214.363 L 78.2029,240.958' style='fill:none;fill-rule:evenodd;stroke:#FF0000;stroke-width:2.0px;stroke-linecap:butt;stroke-linejoin:miter;stroke-opacity:1' />\n",
       "<path class='bond-2 atom-1 atom-3' d='M 72.4383,187.756 L 95.1725,174.687' style='fill:none;fill-rule:evenodd;stroke:#000000;stroke-width:2.0px;stroke-linecap:butt;stroke-linejoin:miter;stroke-opacity:1' />\n",
       "<path class='bond-2 atom-1 atom-3' d='M 95.1725,174.687 L 117.907,161.618' style='fill:none;fill-rule:evenodd;stroke:#FF0000;stroke-width:2.0px;stroke-linecap:butt;stroke-linejoin:miter;stroke-opacity:1' />\n",
       "<path class='bond-3 atom-3 atom-4' d='M 140.289,161.678 L 162.952,174.828' style='fill:none;fill-rule:evenodd;stroke:#FF0000;stroke-width:2.0px;stroke-linecap:butt;stroke-linejoin:miter;stroke-opacity:1' />\n",
       "<path class='bond-3 atom-3 atom-4' d='M 162.952,174.828 L 185.614,187.978' style='fill:none;fill-rule:evenodd;stroke:#000000;stroke-width:2.0px;stroke-linecap:butt;stroke-linejoin:miter;stroke-opacity:1' />\n",
       "<path class='bond-4 atom-4 atom-5' d='M 185.614,187.978 L 185.497,253.329' style='fill:none;fill-rule:evenodd;stroke:#000000;stroke-width:2.0px;stroke-linecap:butt;stroke-linejoin:miter;stroke-opacity:1' />\n",
       "<path class='bond-4 atom-4 atom-5' d='M 197.36,197.802 L 197.278,243.548' style='fill:none;fill-rule:evenodd;stroke:#000000;stroke-width:2.0px;stroke-linecap:butt;stroke-linejoin:miter;stroke-opacity:1' />\n",
       "<path class='bond-12 atom-9 atom-4' d='M 242.287,155.406 L 185.614,187.978' style='fill:none;fill-rule:evenodd;stroke:#000000;stroke-width:2.0px;stroke-linecap:butt;stroke-linejoin:miter;stroke-opacity:1' />\n",
       "<path class='bond-5 atom-5 atom-6' d='M 185.497,253.329 L 242.026,286.123' style='fill:none;fill-rule:evenodd;stroke:#000000;stroke-width:2.0px;stroke-linecap:butt;stroke-linejoin:miter;stroke-opacity:1' />\n",
       "<path class='bond-6 atom-6 atom-7' d='M 242.026,286.123 L 298.686,253.552' style='fill:none;fill-rule:evenodd;stroke:#000000;stroke-width:2.0px;stroke-linecap:butt;stroke-linejoin:miter;stroke-opacity:1' />\n",
       "<path class='bond-6 atom-6 atom-7' d='M 244.662,271.039 L 284.324,248.239' style='fill:none;fill-rule:evenodd;stroke:#000000;stroke-width:2.0px;stroke-linecap:butt;stroke-linejoin:miter;stroke-opacity:1' />\n",
       "<path class='bond-7 atom-7 atom-8' d='M 298.686,253.552 L 298.817,188.2' style='fill:none;fill-rule:evenodd;stroke:#000000;stroke-width:2.0px;stroke-linecap:butt;stroke-linejoin:miter;stroke-opacity:1' />\n",
       "<path class='bond-8 atom-8 atom-9' d='M 298.817,188.2 L 242.287,155.406' style='fill:none;fill-rule:evenodd;stroke:#000000;stroke-width:2.0px;stroke-linecap:butt;stroke-linejoin:miter;stroke-opacity:1' />\n",
       "<path class='bond-8 atom-8 atom-9' d='M 284.435,193.456 L 244.864,170.501' style='fill:none;fill-rule:evenodd;stroke:#000000;stroke-width:2.0px;stroke-linecap:butt;stroke-linejoin:miter;stroke-opacity:1' />\n",
       "<path class='bond-9 atom-9 atom-10' d='M 242.287,155.406 L 242.418,90.0678' style='fill:none;fill-rule:evenodd;stroke:#000000;stroke-width:2.0px;stroke-linecap:butt;stroke-linejoin:miter;stroke-opacity:1' />\n",
       "<path class='bond-10 atom-10 atom-11' d='M 245.37,84.9802 L 222.701,71.8296' style='fill:none;fill-rule:evenodd;stroke:#000000;stroke-width:2.0px;stroke-linecap:butt;stroke-linejoin:miter;stroke-opacity:1' />\n",
       "<path class='bond-10 atom-10 atom-11' d='M 222.701,71.8296 L 200.032,58.6791' style='fill:none;fill-rule:evenodd;stroke:#FF0000;stroke-width:2.0px;stroke-linecap:butt;stroke-linejoin:miter;stroke-opacity:1' />\n",
       "<path class='bond-10 atom-10 atom-11' d='M 239.467,95.1553 L 216.798,82.0048' style='fill:none;fill-rule:evenodd;stroke:#000000;stroke-width:2.0px;stroke-linecap:butt;stroke-linejoin:miter;stroke-opacity:1' />\n",
       "<path class='bond-10 atom-10 atom-11' d='M 216.798,82.0048 L 194.129,68.8542' style='fill:none;fill-rule:evenodd;stroke:#FF0000;stroke-width:2.0px;stroke-linecap:butt;stroke-linejoin:miter;stroke-opacity:1' />\n",
       "<path class='bond-11 atom-10 atom-12' d='M 242.418,90.0678 L 265.152,77.0041' style='fill:none;fill-rule:evenodd;stroke:#000000;stroke-width:2.0px;stroke-linecap:butt;stroke-linejoin:miter;stroke-opacity:1' />\n",
       "<path class='bond-11 atom-10 atom-12' d='M 265.152,77.0041 L 287.887,63.9404' style='fill:none;fill-rule:evenodd;stroke:#FF0000;stroke-width:2.0px;stroke-linecap:butt;stroke-linejoin:miter;stroke-opacity:1' />\n",
       "<path  class='atom-2' d='M 62.7369 253.166\n",
       "Q 62.7369 248.167, 65.2072 245.373\n",
       "Q 67.6775 242.579, 72.2946 242.579\n",
       "Q 76.9117 242.579, 79.3819 245.373\n",
       "Q 81.8522 248.167, 81.8522 253.166\n",
       "Q 81.8522 258.224, 79.3525 261.106\n",
       "Q 76.8528 263.959, 72.2946 263.959\n",
       "Q 67.7069 263.959, 65.2072 261.106\n",
       "Q 62.7369 258.254, 62.7369 253.166\n",
       "M 72.2946 261.606\n",
       "Q 75.4706 261.606, 77.1763 259.489\n",
       "Q 78.9114 257.342, 78.9114 253.166\n",
       "Q 78.9114 249.078, 77.1763 247.02\n",
       "Q 75.4706 244.932, 72.2946 244.932\n",
       "Q 69.1185 244.932, 67.3834 246.99\n",
       "Q 65.6777 249.049, 65.6777 253.166\n",
       "Q 65.6777 257.371, 67.3834 259.489\n",
       "Q 69.1185 261.606, 72.2946 261.606\n",
       "' fill='#FF0000'/>\n",
       "<path  class='atom-3' d='M 119.541 155.243\n",
       "Q 119.541 150.244, 122.011 147.45\n",
       "Q 124.481 144.656, 129.098 144.656\n",
       "Q 133.715 144.656, 136.186 147.45\n",
       "Q 138.656 150.244, 138.656 155.243\n",
       "Q 138.656 160.301, 136.156 163.183\n",
       "Q 133.657 166.036, 129.098 166.036\n",
       "Q 124.511 166.036, 122.011 163.183\n",
       "Q 119.541 160.331, 119.541 155.243\n",
       "M 129.098 163.683\n",
       "Q 132.274 163.683, 133.98 161.566\n",
       "Q 135.715 159.419, 135.715 155.243\n",
       "Q 135.715 151.155, 133.98 149.097\n",
       "Q 132.274 147.009, 129.098 147.009\n",
       "Q 125.922 147.009, 124.187 149.067\n",
       "Q 122.481 151.126, 122.481 155.243\n",
       "Q 122.481 159.448, 124.187 161.566\n",
       "Q 125.922 163.683, 129.098 163.683\n",
       "' fill='#FF0000'/>\n",
       "<path  class='atom-11' d='M 176.331 57.3331\n",
       "Q 176.331 52.3337, 178.802 49.5399\n",
       "Q 181.272 46.7461, 185.889 46.7461\n",
       "Q 190.506 46.7461, 192.976 49.5399\n",
       "Q 195.447 52.3337, 195.447 57.3331\n",
       "Q 195.447 62.3913, 192.947 65.2733\n",
       "Q 190.447 68.1259, 185.889 68.1259\n",
       "Q 181.301 68.1259, 178.802 65.2733\n",
       "Q 176.331 62.4207, 176.331 57.3331\n",
       "M 185.889 65.7733\n",
       "Q 189.065 65.7733, 190.771 63.6559\n",
       "Q 192.506 61.5091, 192.506 57.3331\n",
       "Q 192.506 53.2453, 190.771 51.1868\n",
       "Q 189.065 49.0988, 185.889 49.0988\n",
       "Q 182.713 49.0988, 180.978 51.1573\n",
       "Q 179.272 53.2159, 179.272 57.3331\n",
       "Q 179.272 61.5385, 180.978 63.6559\n",
       "Q 182.713 65.7733, 185.889 65.7733\n",
       "' fill='#FF0000'/>\n",
       "<path  class='atom-12' d='M 289.52 57.5683\n",
       "Q 289.52 52.5689, 291.991 49.7752\n",
       "Q 294.461 46.9814, 299.078 46.9814\n",
       "Q 303.695 46.9814, 306.165 49.7752\n",
       "Q 308.636 52.5689, 308.636 57.5683\n",
       "Q 308.636 62.6266, 306.136 65.5086\n",
       "Q 303.636 68.3612, 299.078 68.3612\n",
       "Q 294.49 68.3612, 291.991 65.5086\n",
       "Q 289.52 62.656, 289.52 57.5683\n",
       "M 299.078 66.0085\n",
       "Q 302.254 66.0085, 303.96 63.8911\n",
       "Q 305.695 61.7443, 305.695 57.5683\n",
       "Q 305.695 53.4806, 303.96 51.422\n",
       "Q 302.254 49.334, 299.078 49.334\n",
       "Q 295.902 49.334, 294.167 51.3926\n",
       "Q 292.461 53.4512, 292.461 57.5683\n",
       "Q 292.461 61.7737, 294.167 63.8911\n",
       "Q 295.902 66.0085, 299.078 66.0085\n",
       "' fill='#FF0000'/>\n",
       "<path  class='atom-12' d='M 311.135 47.2166\n",
       "L 313.959 47.2166\n",
       "L 313.959 56.0685\n",
       "L 324.604 56.0685\n",
       "L 324.604 47.2166\n",
       "L 327.428 47.2166\n",
       "L 327.428 68.0377\n",
       "L 324.604 68.0377\n",
       "L 324.604 58.4212\n",
       "L 313.959 58.4212\n",
       "L 313.959 68.0377\n",
       "L 311.135 68.0377\n",
       "L 311.135 47.2166\n",
       "' fill='#FF0000'/>\n",
       "</svg>\n"
      ]
     },
     "metadata": {},
     "output_type": "display_data"
    }
   ],
   "source": [
    "qmol = get_qmol(\"c1ccccc1\")\n",
    "smatch = get_substruct_match(mol, qmol)\n",
    "svg = get_svg(mol, merge(smatch, Dict{String, Any}(\"height\" => 350, \"width\" => 350)))\n",
    "display(\"image/svg+xml\", svg)"
   ]
  },
  {
   "cell_type": "markdown",
   "id": "under-attendance",
   "metadata": {},
   "source": [
    "# Load a molecule from SMILES, add hydrogens, generate a 3D conformer and get its molblock"
   ]
  },
  {
   "cell_type": "code",
   "execution_count": 5,
   "id": "banned-australian",
   "metadata": {},
   "outputs": [
    {
     "name": "stdout",
     "output_type": "stream",
     "text": [
      "\n",
      "     RDKit          3D\n",
      "\n",
      " 21 21  0  0  0  0  0  0  0  0999 V2000\n",
      "   -2.6908   -2.3678    0.1146 C   0  0  0  0  0  0  0  0  0  0  0  0\n",
      "   -1.8138   -1.2318   -0.2670 C   0  0  0  0  0  0  0  0  0  0  0  0\n",
      "   -1.6853   -0.8432   -1.4665 O   0  0  0  0  0  0  0  0  0  0  0  0\n",
      "   -1.0824   -0.5232    0.6440 O   0  0  0  0  0  0  0  0  0  0  0  0\n",
      "   -0.2551    0.5321    0.3683 C   0  0  0  0  0  0  0  0  0  0  0  0\n",
      "   -0.6319    1.8579    0.3454 C   0  0  0  0  0  0  0  0  0  0  0  0\n",
      "    0.2376    2.8923    0.0618 C   0  0  0  0  0  0  0  0  0  0  0  0\n",
      "    1.5481    2.5806   -0.2119 C   0  0  0  0  0  0  0  0  0  0  0  0\n",
      "    1.9783    1.2718   -0.2026 C   0  0  0  0  0  0  0  0  0  0  0  0\n",
      "    1.0686    0.2537    0.0888 C   0  0  0  0  0  0  0  0  0  0  0  0\n",
      "    1.5645   -1.1166    0.0881 C   0  0  0  0  0  0  0  0  0  0  0  0\n",
      "    0.7995   -2.0819    0.3422 O   0  0  0  0  0  0  0  0  0  0  0  0\n",
      "    2.8901   -1.4080   -0.1907 O   0  0  0  0  0  0  0  0  0  0  0  0\n",
      "   -3.2691   -2.7326   -0.7343 H   0  0  0  0  0  0  0  0  0  0  0  0\n",
      "   -3.3804   -2.0153    0.8922 H   0  0  0  0  0  0  0  0  0  0  0  0\n",
      "   -2.0263   -3.1698    0.5028 H   0  0  0  0  0  0  0  0  0  0  0  0\n",
      "   -1.6594    2.0715    0.5626 H   0  0  0  0  0  0  0  0  0  0  0  0\n",
      "   -0.0851    3.9259    0.0506 H   0  0  0  0  0  0  0  0  0  0  0  0\n",
      "    2.2206    3.3985   -0.4327 H   0  0  0  0  0  0  0  0  0  0  0  0\n",
      "    3.0185    1.0748   -0.4241 H   0  0  0  0  0  0  0  0  0  0  0  0\n",
      "    3.2536   -2.3690   -0.1314 H   0  0  0  0  0  0  0  0  0  0  0  0\n",
      "  1  2  1  0\n",
      "  2  3  2  0\n",
      "  2  4  1  0\n",
      "  4  5  1  0\n",
      "  5  6  2  0\n",
      "  6  7  1  0\n",
      "  7  8  2  0\n",
      "  8  9  1  0\n",
      "  9 10  2  0\n",
      " 10 11  1  0\n",
      " 11 12  2  0\n",
      " 11 13  1  0\n",
      " 10  5  1  0\n",
      "  1 14  1  0\n",
      "  1 15  1  0\n",
      "  1 16  1  0\n",
      "  6 17  1  0\n",
      "  7 18  1  0\n",
      "  8 19  1  0\n",
      "  9 20  1  0\n",
      " 13 21  1  0\n",
      "M  END\n"
     ]
    }
   ],
   "source": [
    "mol = get_mol(\"CC(=O)Oc1ccccc1C(=O)O\")\n",
    "add_hs(mol)\n",
    "set_3d_coords(mol)\n",
    "print(get_molblock(mol))"
   ]
  },
  {
   "cell_type": "markdown",
   "id": "coordinate-intervention",
   "metadata": {},
   "source": [
    "# Load a molecule and calculate a set of physicochemical descriptors and its morgan fingerprints"
   ]
  },
  {
   "cell_type": "code",
   "execution_count": 6,
   "id": "difficult-jewelry",
   "metadata": {},
   "outputs": [
    {
     "name": "stdout",
     "output_type": "stream",
     "text": [
      "Dict{String, Any}(\"lipinskiHBA\" => 4.0, \"lipinskiHBD\" => 1.0, \"NumAromaticRings\" => 1.0, \"NumRings\" => 1.0, \"NumAromaticHeterocycles\" => 0.0, \"CrippenMR\" => 44.7103, \"labuteASA\" => 74.75705, \"NumHeterocycles\" => 0.0, \"chi0v\" => 6.98135, \"tpsa\" => 63.6, \"kappa1\" => 9.2496, \"chi3n\" => 1.37115, \"NumHeteroatoms\" => 4.0, \"chi1v\" => 3.61745, \"NumBridgeheadAtoms\" => 0.0, \"NumHBD\" => 1.0, \"kappa2\" => 3.70925, \"kappa3\" => 2.29741, \"NumSpiroAtoms\" => 0.0, \"Phi\" => 2.63916, \"chi1n\" => 3.61745, \"chi2n\" => 1.37115, \"NumHBA\" => 3.0, \"FractionCSP3\" => 0.11111, \"chi4n\" => 0.88717, \"chi0n\" => 6.98135, \"NumUnspecifiedAtomStereoCenters\" => 0.0, \"exactmw\" => 180.04225, \"amw\" => 180.15899, \"NumSaturatedRings\" => 0.0, \"NumAliphaticHeterocycles\" => 0.0, \"hallKierAlpha\" => -1.83999, \"NumAtomStereoCenters\" => 0.0, \"CrippenClogP\" => 1.3101, \"chi4v\" => 0.88717, \"NumAliphaticRings\" => 0.0, \"NumRotatableBonds\" => 2.0, \"chi2v\" => 1.37115, \"NumAmideBonds\" => 0.0, \"NumSaturatedHeterocycles\" => 0.0, \"chi3v\" => 1.37115)"
     ]
    }
   ],
   "source": [
    "mol = get_mol(\"CC(=O)Oc1ccccc1C(=O)O\")\n",
    "descs = get_descriptors(mol)\n",
    "print(descs)"
   ]
  },
  {
   "cell_type": "code",
   "execution_count": 7,
   "id": "differential-broadway",
   "metadata": {},
   "outputs": [
    {
     "name": "stdout",
     "output_type": "stream",
     "text": [
      "00000000000000000000000000000000000000000000000000000000000000000000000000000000000000000000000000000000000000000000000000000000000000000000000000000000000000000000000000000000000000000000000000000000000000000000000000000000000000000000000000000000000000000000000000000000000000000000000000000000000000000000000000000000000000000000000000000000000000000000000000000000000000000000000000000100000000000000000000000000000000000000000000000000000000000000000010000000000000000000000000000000000000000000000000000000000000000000000000000000000000000000000000000000000000000000000000000000000000000000000000000000000000000000000000000000000000000000000000100000000000000000000000000000000000000000000100000000000000000000000000000000000000000000000000000000000000000000000000000000000000000000000000000000000000010000000000000000000000000000000000000000000000000000000000000000000000000000000000000000000000000000010000000000000000000000000000000000000000000000000000000000000000000000000000000000000000000000000000000000010000000000000000010000000000010000000001000000000000000000000000000000100000000000000000000000000000000000000000000000000000000000000000000000000000000000000000000000000000000000000100000000000000000000000000000000000000000000000000000000000000000000000000000000000000000000000000000000000000000000000000000000000000000000000000000000000000000000000000000000000010000000000000000000000000000010000000000000000000000000000000000001000000000000000000001000000000000000000000000000000000000000000000000000000000000000000000000000000000000000000000000000000000000000000000000000000000000000000000000000100000000000000000000000000000000000000000000000000000000000000000000000000000000000000000000000000000000000000001000000000000000000001000000000000000000000000100000000000000000000000000000000000000000000000000000000000000000000000000000000000000000000000001000000000000000000000000000000000000000000010000000000000000000000000000000000000000000000000000100000000000000000000100000000000000000000000000000000000000000000000000000000"
     ]
    }
   ],
   "source": [
    "print(get_morgan_fp(mol))"
   ]
  },
  {
   "cell_type": "markdown",
   "id": "eight-station",
   "metadata": {},
   "source": [
    "## Load 2 molecules and calculate their tanimoto similarity\n",
    "\n",
    "Tanimoto similarity is not currently included in the MinimalLib but it can be easily computed using few lines of Julia code"
   ]
  },
  {
   "cell_type": "code",
   "execution_count": 8,
   "id": "innocent-transition",
   "metadata": {},
   "outputs": [
    {
     "data": {
      "text/plain": [
       "0.2222222222222222"
      ]
     },
     "execution_count": 8,
     "metadata": {},
     "output_type": "execute_result"
    }
   ],
   "source": [
    "function tanimoto(fpb1::Vector{UInt8}, fpb2::Vector{UInt8})::Float64\n",
    "\n",
    "    m1::Vector{UInt64} = reinterpret(UInt64, fpb1)\n",
    "    m2::Vector{UInt64} = reinterpret(UInt64, fpb2)\n",
    "\n",
    "    comm::Integer = 0\n",
    "    m1count::Integer = 0\n",
    "    m2count::Integer = 0\n",
    "    for i in 1:length(m1)\n",
    "        comm += count_ones(m1[i] & m2[i])\n",
    "        m1count += count_ones(m1[i])\n",
    "        m2count += count_ones(m2[i])\n",
    "    end\n",
    "    return comm / (m1count + m2count - comm)\n",
    "end\n",
    "\n",
    "mol1 = get_mol(\"CC(=O)Oc1ccccc1C(=O)O\")\n",
    "mol2 = get_mol(\"CC(=O)Nc1ccc(O)cc1\")\n",
    "\n",
    "fpb1 = get_morgan_fp_as_bytes(mol1)\n",
    "fpb2 = get_morgan_fp_as_bytes(mol2)\n",
    "\n",
    "tanimoto(fpb1, fpb2)"
   ]
  },
  {
   "cell_type": "markdown",
   "id": "unlimited-truth",
   "metadata": {},
   "source": [
    "count_ones uses CPU intrinsics (popcntq)"
   ]
  },
  {
   "cell_type": "code",
   "execution_count": 9,
   "id": "understood-malawi",
   "metadata": {},
   "outputs": [
    {
     "name": "stdout",
     "output_type": "stream",
     "text": [
      "\t\u001b[0m.section\t\u001b[0m__TEXT\u001b[0m,\u001b[0m__text\u001b[0m,\u001b[0mregular\u001b[0m,\u001b[0mpure_instructions\n",
      "\u001b[90m; ┌ @ int.jl:372 within `count_ones'\u001b[39m\n",
      "\t\u001b[96m\u001b[1mpopcntq\u001b[22m\u001b[39m\t\u001b[0m%rdi\u001b[0m, \u001b[0m%rax\n",
      "\t\u001b[96m\u001b[1mretq\u001b[22m\u001b[39m\n",
      "\t\u001b[96m\u001b[1mnopw\u001b[22m\u001b[39m\t\u001b[0m%cs\u001b[0m:\u001b[33m(\u001b[39m\u001b[0m%rax\u001b[0m,\u001b[0m%rax\u001b[33m)\u001b[39m\n",
      "\u001b[90m; └\u001b[39m\n"
     ]
    }
   ],
   "source": [
    "code_native(count_ones,(UInt64,))"
   ]
  },
  {
   "cell_type": "markdown",
   "id": "obvious-robinson",
   "metadata": {},
   "source": [
    "## Logging\n",
    "\n",
    "By default RDKit is not showing its warning/error messages"
   ]
  },
  {
   "cell_type": "code",
   "execution_count": 10,
   "id": "adolescent-husband",
   "metadata": {},
   "outputs": [
    {
     "name": "stdout",
     "output_type": "stream",
     "text": [
      "nothing"
     ]
    }
   ],
   "source": [
    "# load an incorrect mol, returns nothing without giving an explanation\n",
    "mol = get_mol(\"CC(=O)Oc1cccc1C(=O)O\")\n",
    "print(mol)"
   ]
  },
  {
   "cell_type": "markdown",
   "id": "rolled-diamond",
   "metadata": {},
   "source": [
    "enable logging to see RDKit warnings/errors when parsing molecules"
   ]
  },
  {
   "cell_type": "code",
   "execution_count": 11,
   "id": "clinical-latino",
   "metadata": {},
   "outputs": [
    {
     "name": "stdout",
     "output_type": "stream",
     "text": [
      "nothing"
     ]
    },
    {
     "name": "stderr",
     "output_type": "stream",
     "text": [
      "[10:37:33] Can't kekulize mol.  Unkekulized atoms: 4 5 6 7 8\n",
      "\n"
     ]
    }
   ],
   "source": [
    "enable_logging()\n",
    "mol = get_mol(\"CC(=O)Oc1cccc1C(=O)O\")\n",
    "print(mol)"
   ]
  },
  {
   "cell_type": "code",
   "execution_count": null,
   "id": "mature-turkey",
   "metadata": {},
   "outputs": [],
   "source": []
  }
 ],
 "metadata": {
  "kernelspec": {
   "display_name": "Julia 1.6.0",
   "language": "julia",
   "name": "julia-1.6"
  },
  "language_info": {
   "file_extension": ".jl",
   "mimetype": "application/julia",
   "name": "julia",
   "version": "1.6.0"
  }
 },
 "nbformat": 4,
 "nbformat_minor": 5
}