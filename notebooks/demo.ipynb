{
 "cells": [
  {
   "cell_type": "markdown",
   "id": "shaped-india",
   "metadata": {},
   "source": [
    "# RDKitMinimalLib usage examples"
   ]
  },
  {
   "cell_type": "code",
   "execution_count": 1,
   "id": "threaded-bonus",
   "metadata": {},
   "outputs": [],
   "source": [
    "using RDKitMinimalLib"
   ]
  },
  {
   "cell_type": "markdown",
   "id": "studied-orange",
   "metadata": {},
   "source": [
    "## Read a molecule from a molblock, display it and get many different structure representations"
   ]
  },
  {
   "cell_type": "code",
   "execution_count": 2,
   "id": "invalid-trick",
   "metadata": {},
   "outputs": [
    {
     "data": {
      "image/svg+xml": [
       "<?xml version='1.0' encoding='iso-8859-1'?>\n",
       "<svg version='1.1' baseProfile='full'\n",
       "              xmlns='http://www.w3.org/2000/svg'\n",
       "                      xmlns:rdkit='http://www.rdkit.org/xml'\n",
       "                      xmlns:xlink='http://www.w3.org/1999/xlink'\n",
       "                  xml:space='preserve'\n",
       "width='350px' height='350px' viewBox='0 0 350 350'>\n",
       "<!-- END OF HEADER -->\n",
       "<rect style='opacity:1.0;fill:#FFFFFF;stroke:none' width='350' height='350' x='0' y='0'> </rect>\n",
       "<path class='bond-0 atom-0 atom-1' d='M 57.1561,126.456 L 57.062,191.336' style='fill:none;fill-rule:evenodd;stroke:#000000;stroke-width:2.0px;stroke-linecap:butt;stroke-linejoin:miter;stroke-opacity:1' />\n",
       "<path class='bond-0 atom-0 atom-1' d='M 71.2582,136.208 L 71.1923,181.624' style='fill:none;fill-rule:evenodd;stroke:#000000;stroke-width:2.0px;stroke-linecap:butt;stroke-linejoin:miter;stroke-opacity:1' />\n",
       "<path class='bond-11 atom-5 atom-0' d='M 112.978,94.0826 L 57.1561,126.456' style='fill:none;fill-rule:evenodd;stroke:#000000;stroke-width:2.0px;stroke-linecap:butt;stroke-linejoin:miter;stroke-opacity:1' />\n",
       "<path class='bond-7 atom-1 atom-2' d='M 57.062,191.336 L 113.119,223.709' style='fill:none;fill-rule:evenodd;stroke:#000000;stroke-width:2.0px;stroke-linecap:butt;stroke-linejoin:miter;stroke-opacity:1' />\n",
       "<path class='bond-2 atom-2 atom-3' d='M 113.119,223.709 L 169.302,191.297' style='fill:none;fill-rule:evenodd;stroke:#000000;stroke-width:2.0px;stroke-linecap:butt;stroke-linejoin:miter;stroke-opacity:1' />\n",
       "<path class='bond-2 atom-2 atom-3' d='M 114.492,206.62 L 153.82,183.931' style='fill:none;fill-rule:evenodd;stroke:#000000;stroke-width:2.0px;stroke-linecap:butt;stroke-linejoin:miter;stroke-opacity:1' />\n",
       "<path class='bond-4 atom-3 atom-8' d='M 169.302,191.297 L 190.795,203.663' style='fill:none;fill-rule:evenodd;stroke:#000000;stroke-width:2.0px;stroke-linecap:butt;stroke-linejoin:miter;stroke-opacity:1' />\n",
       "<path class='bond-4 atom-3 atom-8' d='M 190.795,203.663 L 212.288,216.03' style='fill:none;fill-rule:evenodd;stroke:#FF0000;stroke-width:2.0px;stroke-linecap:butt;stroke-linejoin:miter;stroke-opacity:1' />\n",
       "<path class='bond-5 atom-3 atom-4' d='M 169.302,191.297 L 169.074,126.174' style='fill:none;fill-rule:evenodd;stroke:#000000;stroke-width:2.0px;stroke-linecap:butt;stroke-linejoin:miter;stroke-opacity:1' />\n",
       "<path class='bond-1 atom-4 atom-6' d='M 169.074,126.174 L 224.983,93.6121' style='fill:none;fill-rule:evenodd;stroke:#000000;stroke-width:2.0px;stroke-linecap:butt;stroke-linejoin:miter;stroke-opacity:1' />\n",
       "<path class='bond-9 atom-4 atom-5' d='M 169.074,126.174 L 112.978,94.0826' style='fill:none;fill-rule:evenodd;stroke:#000000;stroke-width:2.0px;stroke-linecap:butt;stroke-linejoin:miter;stroke-opacity:1' />\n",
       "<path class='bond-9 atom-4 atom-5' d='M 153.65,133.613 L 114.383,111.149' style='fill:none;fill-rule:evenodd;stroke:#000000;stroke-width:2.0px;stroke-linecap:butt;stroke-linejoin:miter;stroke-opacity:1' />\n",
       "<path class='bond-3 atom-6 atom-7' d='M 221.476,99.7376 L 243.005,112.061' style='fill:none;fill-rule:evenodd;stroke:#000000;stroke-width:2.0px;stroke-linecap:butt;stroke-linejoin:miter;stroke-opacity:1' />\n",
       "<path class='bond-3 atom-6 atom-7' d='M 243.005,112.061 L 264.533,124.384' style='fill:none;fill-rule:evenodd;stroke:#FF0000;stroke-width:2.0px;stroke-linecap:butt;stroke-linejoin:miter;stroke-opacity:1' />\n",
       "<path class='bond-3 atom-6 atom-7' d='M 228.489,87.4865 L 250.017,99.8099' style='fill:none;fill-rule:evenodd;stroke:#000000;stroke-width:2.0px;stroke-linecap:butt;stroke-linejoin:miter;stroke-opacity:1' />\n",
       "<path class='bond-3 atom-6 atom-7' d='M 250.017,99.8099 L 271.546,112.133' style='fill:none;fill-rule:evenodd;stroke:#FF0000;stroke-width:2.0px;stroke-linecap:butt;stroke-linejoin:miter;stroke-opacity:1' />\n",
       "<path class='bond-12 atom-6 atom-12' d='M 224.983,93.6121 L 224.886,68.586' style='fill:none;fill-rule:evenodd;stroke:#000000;stroke-width:2.0px;stroke-linecap:butt;stroke-linejoin:miter;stroke-opacity:1' />\n",
       "<path class='bond-12 atom-6 atom-12' d='M 224.886,68.586 L 224.788,43.56' style='fill:none;fill-rule:evenodd;stroke:#FF0000;stroke-width:2.0px;stroke-linecap:butt;stroke-linejoin:miter;stroke-opacity:1' />\n",
       "<path class='bond-6 atom-8 atom-9' d='M 225.398,238.2 L 225.437,263.226' style='fill:none;fill-rule:evenodd;stroke:#FF0000;stroke-width:2.0px;stroke-linecap:butt;stroke-linejoin:miter;stroke-opacity:1' />\n",
       "<path class='bond-6 atom-8 atom-9' d='M 225.437,263.226 L 225.477,288.252' style='fill:none;fill-rule:evenodd;stroke:#000000;stroke-width:2.0px;stroke-linecap:butt;stroke-linejoin:miter;stroke-opacity:1' />\n",
       "<path class='bond-8 atom-9 atom-10' d='M 225.477,288.252 L 281.55,320.499' style='fill:none;fill-rule:evenodd;stroke:#000000;stroke-width:2.0px;stroke-linecap:butt;stroke-linejoin:miter;stroke-opacity:1' />\n",
       "<path class='bond-10 atom-9 atom-11' d='M 221.938,282.144 L 200.496,294.568' style='fill:none;fill-rule:evenodd;stroke:#000000;stroke-width:2.0px;stroke-linecap:butt;stroke-linejoin:miter;stroke-opacity:1' />\n",
       "<path class='bond-10 atom-9 atom-11' d='M 200.496,294.568 L 179.054,306.991' style='fill:none;fill-rule:evenodd;stroke:#FF0000;stroke-width:2.0px;stroke-linecap:butt;stroke-linejoin:miter;stroke-opacity:1' />\n",
       "<path class='bond-10 atom-9 atom-11' d='M 229.015,294.359 L 207.573,306.782' style='fill:none;fill-rule:evenodd;stroke:#000000;stroke-width:2.0px;stroke-linecap:butt;stroke-linejoin:miter;stroke-opacity:1' />\n",
       "<path class='bond-10 atom-9 atom-11' d='M 207.573,306.782 L 186.131,319.205' style='fill:none;fill-rule:evenodd;stroke:#FF0000;stroke-width:2.0px;stroke-linecap:butt;stroke-linejoin:miter;stroke-opacity:1' />\n",
       "<path  class='atom-7' d='M 269.657 125.821\n",
       "Q 269.657 119.821, 272.621 116.469\n",
       "Q 275.585 113.116, 281.126 113.116\n",
       "Q 286.667 113.116, 289.631 116.469\n",
       "Q 292.596 119.821, 292.596 125.821\n",
       "Q 292.596 131.891, 289.596 135.349\n",
       "Q 286.596 138.772, 281.126 138.772\n",
       "Q 275.621 138.772, 272.621 135.349\n",
       "Q 269.657 131.926, 269.657 125.821\n",
       "M 281.126 135.949\n",
       "Q 284.937 135.949, 286.984 133.408\n",
       "Q 289.066 130.832, 289.066 125.821\n",
       "Q 289.066 120.915, 286.984 118.445\n",
       "Q 284.937 115.939, 281.126 115.939\n",
       "Q 277.315 115.939, 275.233 118.41\n",
       "Q 273.186 120.88, 273.186 125.821\n",
       "Q 273.186 130.867, 275.233 133.408\n",
       "Q 277.315 135.949, 281.126 135.949\n",
       "' fill='#FF0000'/>\n",
       "<path  class='atom-8' d='M 213.905 223.631\n",
       "Q 213.905 217.631, 216.87 214.279\n",
       "Q 219.834 210.926, 225.375 210.926\n",
       "Q 230.915 210.926, 233.88 214.279\n",
       "Q 236.844 217.631, 236.844 223.631\n",
       "Q 236.844 229.701, 233.844 233.159\n",
       "Q 230.845 236.582, 225.375 236.582\n",
       "Q 219.869 236.582, 216.87 233.159\n",
       "Q 213.905 229.736, 213.905 223.631\n",
       "M 225.375 233.759\n",
       "Q 229.186 233.759, 231.233 231.218\n",
       "Q 233.315 228.642, 233.315 223.631\n",
       "Q 233.315 218.725, 231.233 216.255\n",
       "Q 229.186 213.749, 225.375 213.749\n",
       "Q 221.563 213.749, 219.481 216.22\n",
       "Q 217.434 218.69, 217.434 223.631\n",
       "Q 217.434 228.677, 219.481 231.218\n",
       "Q 221.563 233.759, 225.375 233.759\n",
       "' fill='#FF0000'/>\n",
       "<path  class='atom-11' d='M 158.036 320.75\n",
       "Q 158.036 314.751, 161.001 311.398\n",
       "Q 163.965 308.046, 169.506 308.046\n",
       "Q 175.046 308.046, 178.011 311.398\n",
       "Q 180.975 314.751, 180.975 320.75\n",
       "Q 180.975 326.82, 177.975 330.279\n",
       "Q 174.976 333.702, 169.506 333.702\n",
       "Q 164 333.702, 161.001 330.279\n",
       "Q 158.036 326.856, 158.036 320.75\n",
       "M 169.506 330.879\n",
       "Q 173.317 330.879, 175.364 328.338\n",
       "Q 177.446 325.762, 177.446 320.75\n",
       "Q 177.446 315.845, 175.364 313.375\n",
       "Q 173.317 310.869, 169.506 310.869\n",
       "Q 165.694 310.869, 163.612 313.339\n",
       "Q 161.565 315.81, 161.565 320.75\n",
       "Q 161.565 325.797, 163.612 328.338\n",
       "Q 165.694 330.879, 169.506 330.879\n",
       "' fill='#FF0000'/>\n",
       "<path  class='atom-12' d='M 213.262 28.991\n",
       "Q 213.262 22.9916, 216.227 19.639\n",
       "Q 219.191 16.2864, 224.732 16.2864\n",
       "Q 230.272 16.2864, 233.237 19.639\n",
       "Q 236.201 22.9916, 236.201 28.991\n",
       "Q 236.201 35.061, 233.201 38.5195\n",
       "Q 230.202 41.9427, 224.732 41.9427\n",
       "Q 219.226 41.9427, 216.227 38.5195\n",
       "Q 213.262 35.0963, 213.262 28.991\n",
       "M 224.732 39.1194\n",
       "Q 228.543 39.1194, 230.59 36.5785\n",
       "Q 232.672 34.0023, 232.672 28.991\n",
       "Q 232.672 24.0856, 230.59 21.6153\n",
       "Q 228.543 19.1096, 224.732 19.1096\n",
       "Q 220.92 19.1096, 218.838 21.58\n",
       "Q 216.791 24.0503, 216.791 28.991\n",
       "Q 216.791 34.0376, 218.838 36.5785\n",
       "Q 220.92 39.1194, 224.732 39.1194\n",
       "' fill='#FF0000'/>\n",
       "<path  class='atom-12' d='M 239.201 16.5687\n",
       "L 242.589 16.5687\n",
       "L 242.589 27.1912\n",
       "L 255.364 27.1912\n",
       "L 255.364 16.5687\n",
       "L 258.752 16.5687\n",
       "L 258.752 41.5545\n",
       "L 255.364 41.5545\n",
       "L 255.364 30.0144\n",
       "L 242.589 30.0144\n",
       "L 242.589 41.5545\n",
       "L 239.201 41.5545\n",
       "L 239.201 16.5687\n",
       "' fill='#FF0000'/>\n",
       "</svg>\n"
      ]
     },
     "metadata": {},
     "output_type": "display_data"
    },
    {
     "name": "stdout",
     "output_type": "stream",
     "text": [
      "CC(=O)Oc1ccccc1C(=O)O\n",
      "CC(=O)Oc1ccccc1C(=O)O |(11.7423,-4.5949,;11.0273,-4.1837,;10.3136,-4.5972,;11.026,-3.3588,;10.311,-2.9474,;9.5946,-3.3607,;8.8798,-2.9479,;8.881,-2.1206,;9.5928,-1.7078,;10.3081,-2.117,;11.021,-1.7018,;11.7369,-2.1116,;11.0178,-0.8769,)|\n",
      "InChI=1S/C9H8O4/c1-6(10)13-8-5-3-2-4-7(8)9(11)12/h2-5H,1H3,(H,11,12)\n",
      "BSYNRYMUTXBXSQ-UHFFFAOYSA-N\n",
      "{\"commonchem\":{\"version\":10},\"defaults\":{\"atom\":{\"z\":6,\"impHs\":0,\"chg\":0,\"nRad\":0,\"isotope\":0,\"stereo\":\"unspecified\"},\"bond\":{\"bo\":1,\"stereo\":\"unspecified\"}},\"molecules\":[{\"name\":\"\",\"atoms\":[{\"impHs\":1},{\"impHs\":1},{\"impHs\":1},{},{},{\"impHs\":1},{},{\"z\":8},{\"z\":8},{},{\"impHs\":3},{\"z\":8},{\"z\":8,\"impHs\":1}],\"bonds\":[{\"bo\":2,\"atoms\":[0,1]},{\"atoms\":[4,6]},{\"bo\":2,\"atoms\":[2,3]},{\"bo\":2,\"atoms\":[6,7]},{\"atoms\":[3,8]},{\"atoms\":[3,4]},{\"atoms\":[8,9]},{\"atoms\":[1,2]},{\"atoms\":[9,10]},{\"bo\":2,\"atoms\":[4,5]},{\"bo\":2,\"atoms\":[9,11]},{\"atoms\":[5,0]},{\"atoms\":[6,12]}],\"conformers\":[{\"dim\":2,\"coords\":[[8.881,-2.1206],[8.8798,-2.9479],[9.5946,-3.3607],[10.311,-2.9474],[10.3081,-2.117],[9.5928,-1.7078],[11.021,-1.7018],[11.7369,-2.1116],[11.026,-3.3588],[11.0273,-4.1837],[11.7423,-4.5949],[10.3136,-4.5972],[11.0178,-0.8769]]}],\"extensions\":[{\"name\":\"rdkitRepresentation\",\"formatVersion\":2,\"toolkitVersion\":\"2021.09.1pre\",\"aromaticAtoms\":[0,1,2,3,4,5],\"aromaticBonds\":[0,2,5,7,9,11],\"atomRings\":[[0,5,4,3,2,1]]}]}]}\n"
     ]
    }
   ],
   "source": [
    "molblock = \"\"\"\n",
    "\n",
    "     RDKit          2D\n",
    "\n",
    " 13 13  0  0  0  0  0  0  0  0999 V2000\n",
    "    8.8810   -2.1206    0.0000 C   0  0  0  0  0  0  0  0  0  0  0  0\n",
    "    8.8798   -2.9479    0.0000 C   0  0  0  0  0  0  0  0  0  0  0  0\n",
    "    9.5946   -3.3607    0.0000 C   0  0  0  0  0  0  0  0  0  0  0  0\n",
    "   10.3110   -2.9474    0.0000 C   0  0  0  0  0  0  0  0  0  0  0  0\n",
    "   10.3081   -2.1170    0.0000 C   0  0  0  0  0  0  0  0  0  0  0  0\n",
    "    9.5928   -1.7078    0.0000 C   0  0  0  0  0  0  0  0  0  0  0  0\n",
    "   11.0210   -1.7018    0.0000 C   0  0  0  0  0  0  0  0  0  0  0  0\n",
    "   11.7369   -2.1116    0.0000 O   0  0  0  0  0  0  0  0  0  0  0  0\n",
    "   11.0260   -3.3588    0.0000 O   0  0  0  0  0  0  0  0  0  0  0  0\n",
    "   11.0273   -4.1837    0.0000 C   0  0  0  0  0  0  0  0  0  0  0  0\n",
    "   11.7423   -4.5949    0.0000 C   0  0  0  0  0  0  0  0  0  0  0  0\n",
    "   10.3136   -4.5972    0.0000 O   0  0  0  0  0  0  0  0  0  0  0  0\n",
    "   11.0178   -0.8769    0.0000 O   0  0  0  0  0  0  0  0  0  0  0  0\n",
    "  1  2  2  0\n",
    "  5  7  1  0\n",
    "  3  4  2  0\n",
    "  7  8  2  0\n",
    "  4  9  1  0\n",
    "  4  5  1  0\n",
    "  9 10  1  0\n",
    "  2  3  1  0\n",
    " 10 11  1  0\n",
    "  5  6  2  0\n",
    " 10 12  2  0\n",
    "  6  1  1  0\n",
    "  7 13  1  0\n",
    "M  END\n",
    "\"\"\"\n",
    "\n",
    "mol = get_mol(molblock)\n",
    "svg = get_svg(mol, Dict{String, Any}(\"height\" => 350, \"width\" => 350))\n",
    "display(\"image/svg+xml\", svg)\n",
    "println(get_smiles(mol))\n",
    "println(get_cxsmiles(mol))\n",
    "inchi = get_inchi(mol)\n",
    "println(inchi)\n",
    "println(get_inchikey_for_inchi(inchi))\n",
    "println(get_json(mol))"
   ]
  },
  {
   "cell_type": "markdown",
   "id": "literary-compatibility",
   "metadata": {},
   "source": [
    "## Read a molecule from SMILES, set 2D coordinates and get its v3kmolblock"
   ]
  },
  {
   "cell_type": "code",
   "execution_count": 3,
   "id": "infectious-israel",
   "metadata": {},
   "outputs": [
    {
     "name": "stdout",
     "output_type": "stream",
     "text": [
      "\n",
      "     RDKit          2D\n",
      "\n",
      "  0  0  0  0  0  0  0  0  0  0999 V3000\n",
      "M  V30 BEGIN CTAB\n",
      "M  V30 COUNTS 13 13 0 0 0\n",
      "M  V30 BEGIN ATOM\n",
      "M  V30 1 C -2.663969 0.313031 0.000000 0\n",
      "M  V30 2 C -1.798969 -0.188769 0.000000 0\n",
      "M  V30 3 O -1.801169 -1.188769 0.000000 0\n",
      "M  V30 4 O -0.931969 0.309631 0.000000 0\n",
      "M  V30 5 C -0.067169 -0.192169 0.000000 0\n",
      "M  V30 6 C -0.068969 -1.192169 0.000000 0\n",
      "M  V30 7 C 0.796031 -1.693969 0.000000 0\n",
      "M  V30 8 C 1.663031 -1.195569 0.000000 0\n",
      "M  V30 9 C 1.665031 -0.195569 0.000000 0\n",
      "M  V30 10 C 0.800031 0.306231 0.000000 0\n",
      "M  V30 11 C 0.802031 1.306031 0.000000 0\n",
      "M  V30 12 O -0.062969 1.807831 0.000000 0\n",
      "M  V30 13 O 1.669031 1.804231 0.000000 0\n",
      "M  V30 END ATOM\n",
      "M  V30 BEGIN BOND\n",
      "M  V30 1 1 1 2\n",
      "M  V30 2 2 2 3\n",
      "M  V30 3 1 2 4\n",
      "M  V30 4 1 4 5\n",
      "M  V30 5 2 5 6\n",
      "M  V30 6 1 6 7\n",
      "M  V30 7 2 7 8\n",
      "M  V30 8 1 8 9\n",
      "M  V30 9 2 9 10\n",
      "M  V30 10 1 10 11\n",
      "M  V30 11 2 11 12\n",
      "M  V30 12 1 11 13\n",
      "M  V30 13 1 10 5\n",
      "M  V30 END BOND\n",
      "M  V30 END CTAB\n",
      "M  END\n",
      "\n"
     ]
    }
   ],
   "source": [
    "mol = get_mol(\"CC(=O)Oc1ccccc1C(=O)O\")\n",
    "# use CoordGenlib for coordinate generation\n",
    "prefer_coordgen(1)\n",
    "set_2d_coords(mol)\n",
    "println(get_v3kmolblock(mol))"
   ]
  },
  {
   "cell_type": "markdown",
   "id": "fixed-martial",
   "metadata": {},
   "source": [
    "## Load a query mol and check for a substructure match"
   ]
  },
  {
   "cell_type": "code",
   "execution_count": 4,
   "id": "synthetic-buffer",
   "metadata": {},
   "outputs": [
    {
     "data": {
      "image/svg+xml": [
       "<?xml version='1.0' encoding='iso-8859-1'?>\n",
       "<svg version='1.1' baseProfile='full'\n",
       "              xmlns='http://www.w3.org/2000/svg'\n",
       "                      xmlns:rdkit='http://www.rdkit.org/xml'\n",
       "                      xmlns:xlink='http://www.w3.org/1999/xlink'\n",
       "                  xml:space='preserve'\n",
       "width='250px' height='200px' viewBox='0 0 250 200'>\n",
       "<!-- END OF HEADER -->\n",
       "<rect style='opacity:1.0;fill:#FFFFFF;stroke:none' width='250' height='200' x='0' y='0'> </rect>\n",
       "<path d='M 131.387,109.348 L 131.306,154.614' style='fill:none;fill-rule:evenodd;stroke:#FF7F7F;stroke-width:14.5px;stroke-linecap:butt;stroke-linejoin:miter;stroke-opacity:1' />\n",
       "<path d='M 131.387,109.348 L 170.642,86.7867' style='fill:none;fill-rule:evenodd;stroke:#FF7F7F;stroke-width:14.5px;stroke-linecap:butt;stroke-linejoin:miter;stroke-opacity:1' />\n",
       "<path d='M 131.306,154.614 L 170.461,177.329' style='fill:none;fill-rule:evenodd;stroke:#FF7F7F;stroke-width:14.5px;stroke-linecap:butt;stroke-linejoin:miter;stroke-opacity:1' />\n",
       "<path d='M 170.461,177.329 L 209.708,154.768' style='fill:none;fill-rule:evenodd;stroke:#FF7F7F;stroke-width:14.5px;stroke-linecap:butt;stroke-linejoin:miter;stroke-opacity:1' />\n",
       "<path d='M 209.708,154.768 L 209.798,109.501' style='fill:none;fill-rule:evenodd;stroke:#FF7F7F;stroke-width:14.5px;stroke-linecap:butt;stroke-linejoin:miter;stroke-opacity:1' />\n",
       "<path d='M 209.798,109.501 L 170.642,86.7867' style='fill:none;fill-rule:evenodd;stroke:#FF7F7F;stroke-width:14.5px;stroke-linecap:butt;stroke-linejoin:miter;stroke-opacity:1' />\n",
       "<ellipse cx='131.387' cy='109.348' rx='13.58' ry='13.58'  style='fill:#FF7F7F;fill-rule:evenodd;stroke:#FF7F7F;stroke-width:1.0px;stroke-linecap:butt;stroke-linejoin:miter;stroke-opacity:1' />\n",
       "<ellipse cx='131.306' cy='154.614' rx='13.58' ry='13.58'  style='fill:#FF7F7F;fill-rule:evenodd;stroke:#FF7F7F;stroke-width:1.0px;stroke-linecap:butt;stroke-linejoin:miter;stroke-opacity:1' />\n",
       "<ellipse cx='170.461' cy='177.329' rx='13.58' ry='13.58'  style='fill:#FF7F7F;fill-rule:evenodd;stroke:#FF7F7F;stroke-width:1.0px;stroke-linecap:butt;stroke-linejoin:miter;stroke-opacity:1' />\n",
       "<ellipse cx='209.708' cy='154.768' rx='13.58' ry='13.58'  style='fill:#FF7F7F;fill-rule:evenodd;stroke:#FF7F7F;stroke-width:1.0px;stroke-linecap:butt;stroke-linejoin:miter;stroke-opacity:1' />\n",
       "<ellipse cx='209.798' cy='109.501' rx='13.58' ry='13.58'  style='fill:#FF7F7F;fill-rule:evenodd;stroke:#FF7F7F;stroke-width:1.0px;stroke-linecap:butt;stroke-linejoin:miter;stroke-opacity:1' />\n",
       "<ellipse cx='170.642' cy='86.7867' rx='13.58' ry='13.58'  style='fill:#FF7F7F;fill-rule:evenodd;stroke:#FF7F7F;stroke-width:1.0px;stroke-linecap:butt;stroke-linejoin:miter;stroke-opacity:1' />\n",
       "<path class='bond-0 atom-0 atom-1' d='M 13.8386,86.4788 L 52.9943,109.194' style='fill:none;fill-rule:evenodd;stroke:#000000;stroke-width:2.0px;stroke-linecap:butt;stroke-linejoin:miter;stroke-opacity:1' />\n",
       "<path class='bond-1 atom-1 atom-2' d='M 48.9203,109.185 L 48.8798,127.606' style='fill:none;fill-rule:evenodd;stroke:#000000;stroke-width:2.0px;stroke-linecap:butt;stroke-linejoin:miter;stroke-opacity:1' />\n",
       "<path class='bond-1 atom-1 atom-2' d='M 48.8798,127.606 L 48.8392,146.027' style='fill:none;fill-rule:evenodd;stroke:#FF0000;stroke-width:2.0px;stroke-linecap:butt;stroke-linejoin:miter;stroke-opacity:1' />\n",
       "<path class='bond-1 atom-1 atom-2' d='M 57.0683,109.203 L 57.0277,127.624' style='fill:none;fill-rule:evenodd;stroke:#000000;stroke-width:2.0px;stroke-linecap:butt;stroke-linejoin:miter;stroke-opacity:1' />\n",
       "<path class='bond-1 atom-1 atom-2' d='M 57.0277,127.624 L 56.9872,146.045' style='fill:none;fill-rule:evenodd;stroke:#FF0000;stroke-width:2.0px;stroke-linecap:butt;stroke-linejoin:miter;stroke-opacity:1' />\n",
       "<path class='bond-2 atom-1 atom-3' d='M 52.9943,109.194 L 68.7414,100.141' style='fill:none;fill-rule:evenodd;stroke:#000000;stroke-width:2.0px;stroke-linecap:butt;stroke-linejoin:miter;stroke-opacity:1' />\n",
       "<path class='bond-2 atom-1 atom-3' d='M 68.7414,100.141 L 84.4885,91.089' style='fill:none;fill-rule:evenodd;stroke:#FF0000;stroke-width:2.0px;stroke-linecap:butt;stroke-linejoin:miter;stroke-opacity:1' />\n",
       "<path class='bond-3 atom-3 atom-4' d='M 99.9922,91.1307 L 115.69,100.239' style='fill:none;fill-rule:evenodd;stroke:#FF0000;stroke-width:2.0px;stroke-linecap:butt;stroke-linejoin:miter;stroke-opacity:1' />\n",
       "<path class='bond-3 atom-3 atom-4' d='M 115.69,100.239 L 131.387,109.348' style='fill:none;fill-rule:evenodd;stroke:#000000;stroke-width:2.0px;stroke-linecap:butt;stroke-linejoin:miter;stroke-opacity:1' />\n",
       "<path class='bond-4 atom-4 atom-5' d='M 131.387,109.348 L 131.306,154.614' style='fill:none;fill-rule:evenodd;stroke:#000000;stroke-width:2.0px;stroke-linecap:butt;stroke-linejoin:miter;stroke-opacity:1' />\n",
       "<path class='bond-4 atom-4 atom-5' d='M 139.523,116.152 L 139.466,147.839' style='fill:none;fill-rule:evenodd;stroke:#000000;stroke-width:2.0px;stroke-linecap:butt;stroke-linejoin:miter;stroke-opacity:1' />\n",
       "<path class='bond-12 atom-9 atom-4' d='M 170.642,86.7867 L 131.387,109.348' style='fill:none;fill-rule:evenodd;stroke:#000000;stroke-width:2.0px;stroke-linecap:butt;stroke-linejoin:miter;stroke-opacity:1' />\n",
       "<path class='bond-5 atom-5 atom-6' d='M 131.306,154.614 L 170.461,177.329' style='fill:none;fill-rule:evenodd;stroke:#000000;stroke-width:2.0px;stroke-linecap:butt;stroke-linejoin:miter;stroke-opacity:1' />\n",
       "<path class='bond-6 atom-6 atom-7' d='M 170.461,177.329 L 209.708,154.768' style='fill:none;fill-rule:evenodd;stroke:#000000;stroke-width:2.0px;stroke-linecap:butt;stroke-linejoin:miter;stroke-opacity:1' />\n",
       "<path class='bond-6 atom-6 atom-7' d='M 172.287,166.881 L 199.76,151.088' style='fill:none;fill-rule:evenodd;stroke:#000000;stroke-width:2.0px;stroke-linecap:butt;stroke-linejoin:miter;stroke-opacity:1' />\n",
       "<path class='bond-7 atom-7 atom-8' d='M 209.708,154.768 L 209.798,109.501' style='fill:none;fill-rule:evenodd;stroke:#000000;stroke-width:2.0px;stroke-linecap:butt;stroke-linejoin:miter;stroke-opacity:1' />\n",
       "<path class='bond-8 atom-8 atom-9' d='M 209.798,109.501 L 170.642,86.7867' style='fill:none;fill-rule:evenodd;stroke:#000000;stroke-width:2.0px;stroke-linecap:butt;stroke-linejoin:miter;stroke-opacity:1' />\n",
       "<path class='bond-8 atom-8 atom-9' d='M 199.836,113.142 L 172.427,97.2418' style='fill:none;fill-rule:evenodd;stroke:#000000;stroke-width:2.0px;stroke-linecap:butt;stroke-linejoin:miter;stroke-opacity:1' />\n",
       "<path class='bond-9 atom-9 atom-10' d='M 170.642,86.7867 L 170.733,41.529' style='fill:none;fill-rule:evenodd;stroke:#000000;stroke-width:2.0px;stroke-linecap:butt;stroke-linejoin:miter;stroke-opacity:1' />\n",
       "<path class='bond-10 atom-10 atom-11' d='M 172.777,38.0051 L 157.075,28.8962' style='fill:none;fill-rule:evenodd;stroke:#000000;stroke-width:2.0px;stroke-linecap:butt;stroke-linejoin:miter;stroke-opacity:1' />\n",
       "<path class='bond-10 atom-10 atom-11' d='M 157.075,28.8962 L 141.373,19.7873' style='fill:none;fill-rule:evenodd;stroke:#FF0000;stroke-width:2.0px;stroke-linecap:butt;stroke-linejoin:miter;stroke-opacity:1' />\n",
       "<path class='bond-10 atom-10 atom-11' d='M 168.689,45.053 L 152.987,35.9441' style='fill:none;fill-rule:evenodd;stroke:#000000;stroke-width:2.0px;stroke-linecap:butt;stroke-linejoin:miter;stroke-opacity:1' />\n",
       "<path class='bond-10 atom-10 atom-11' d='M 152.987,35.9441 L 137.285,26.8352' style='fill:none;fill-rule:evenodd;stroke:#FF0000;stroke-width:2.0px;stroke-linecap:butt;stroke-linejoin:miter;stroke-opacity:1' />\n",
       "<path class='bond-11 atom-10 atom-12' d='M 170.733,41.529 L 186.48,32.4803' style='fill:none;fill-rule:evenodd;stroke:#000000;stroke-width:2.0px;stroke-linecap:butt;stroke-linejoin:miter;stroke-opacity:1' />\n",
       "<path class='bond-11 atom-10 atom-12' d='M 186.48,32.4803 L 202.227,23.4316' style='fill:none;fill-rule:evenodd;stroke:#FF0000;stroke-width:2.0px;stroke-linecap:butt;stroke-linejoin:miter;stroke-opacity:1' />\n",
       "<path  class='atom-2' d='M 46.2744 154.501\n",
       "Q 46.2744 151.038, 47.9855 149.103\n",
       "Q 49.6966 147.168, 52.8947 147.168\n",
       "Q 56.0928 147.168, 57.8039 149.103\n",
       "Q 59.5149 151.038, 59.5149 154.501\n",
       "Q 59.5149 158.005, 57.7835 160.001\n",
       "Q 56.052 161.977, 52.8947 161.977\n",
       "Q 49.717 161.977, 47.9855 160.001\n",
       "Q 46.2744 158.025, 46.2744 154.501\n",
       "M 52.8947 160.347\n",
       "Q 55.0947 160.347, 56.2761 158.881\n",
       "Q 57.4779 157.394, 57.4779 154.501\n",
       "Q 57.4779 151.67, 56.2761 150.244\n",
       "Q 55.0947 148.797, 52.8947 148.797\n",
       "Q 50.6947 148.797, 49.4929 150.223\n",
       "Q 48.3114 151.649, 48.3114 154.501\n",
       "Q 48.3114 157.414, 49.4929 158.881\n",
       "Q 50.6947 160.347, 52.8947 160.347\n",
       "' fill='#FF0000'/>\n",
       "<path  class='atom-3' d='M 85.6202 86.6735\n",
       "Q 85.6202 83.2106, 87.3313 81.2754\n",
       "Q 89.0424 79.3403, 92.2405 79.3403\n",
       "Q 95.4386 79.3403, 97.1497 81.2754\n",
       "Q 98.8607 83.2106, 98.8607 86.6735\n",
       "Q 98.8607 90.1771, 97.1293 92.1734\n",
       "Q 95.3978 94.1493, 92.2405 94.1493\n",
       "Q 89.0628 94.1493, 87.3313 92.1734\n",
       "Q 85.6202 90.1975, 85.6202 86.6735\n",
       "M 92.2405 92.5197\n",
       "Q 94.4405 92.5197, 95.6219 91.053\n",
       "Q 96.8237 89.566, 96.8237 86.6735\n",
       "Q 96.8237 83.8421, 95.6219 82.4162\n",
       "Q 94.4405 80.9699, 92.2405 80.9699\n",
       "Q 90.0405 80.9699, 88.8387 82.3958\n",
       "Q 87.6572 83.8217, 87.6572 86.6735\n",
       "Q 87.6572 89.5864, 88.8387 91.053\n",
       "Q 90.0405 92.5197, 92.2405 92.5197\n",
       "' fill='#FF0000'/>\n",
       "<path  class='atom-11' d='M 124.957 18.8549\n",
       "Q 124.957 15.392, 126.668 13.4569\n",
       "Q 128.379 11.5217, 131.577 11.5217\n",
       "Q 134.775 11.5217, 136.486 13.4569\n",
       "Q 138.198 15.392, 138.198 18.8549\n",
       "Q 138.198 22.3586, 136.466 24.3548\n",
       "Q 134.735 26.3307, 131.577 26.3307\n",
       "Q 128.4 26.3307, 126.668 24.3548\n",
       "Q 124.957 22.3789, 124.957 18.8549\n",
       "M 131.577 24.7011\n",
       "Q 133.777 24.7011, 134.959 23.2345\n",
       "Q 136.161 21.7475, 136.161 18.8549\n",
       "Q 136.161 16.0235, 134.959 14.5976\n",
       "Q 133.777 13.1513, 131.577 13.1513\n",
       "Q 129.377 13.1513, 128.175 14.5772\n",
       "Q 126.994 16.0031, 126.994 18.8549\n",
       "Q 126.994 21.7678, 128.175 23.2345\n",
       "Q 129.377 24.7011, 131.577 24.7011\n",
       "' fill='#FF0000'/>\n",
       "<path  class='atom-12' d='M 203.359 19.0179\n",
       "Q 203.359 15.555, 205.07 13.6198\n",
       "Q 206.781 11.6847, 209.979 11.6847\n",
       "Q 213.177 11.6847, 214.888 13.6198\n",
       "Q 216.599 15.555, 216.599 19.0179\n",
       "Q 216.599 22.5215, 214.868 24.5178\n",
       "Q 213.137 26.4937, 209.979 26.4937\n",
       "Q 206.801 26.4937, 205.07 24.5178\n",
       "Q 203.359 22.5419, 203.359 19.0179\n",
       "M 209.979 24.8641\n",
       "Q 212.179 24.8641, 213.361 23.3974\n",
       "Q 214.562 21.9104, 214.562 19.0179\n",
       "Q 214.562 16.1865, 213.361 14.7606\n",
       "Q 212.179 13.3143, 209.979 13.3143\n",
       "Q 207.779 13.3143, 206.577 14.7402\n",
       "Q 205.396 16.1661, 205.396 19.0179\n",
       "Q 205.396 21.9308, 206.577 23.3974\n",
       "Q 207.779 24.8641, 209.979 24.8641\n",
       "' fill='#FF0000'/>\n",
       "<path  class='atom-12' d='M 218.331 11.8477\n",
       "L 220.286 11.8477\n",
       "L 220.286 17.979\n",
       "L 227.66 17.979\n",
       "L 227.66 11.8477\n",
       "L 229.616 11.8477\n",
       "L 229.616 26.2696\n",
       "L 227.66 26.2696\n",
       "L 227.66 19.6086\n",
       "L 220.286 19.6086\n",
       "L 220.286 26.2696\n",
       "L 218.331 26.2696\n",
       "L 218.331 11.8477\n",
       "' fill='#FF0000'/>\n",
       "</svg>\n"
      ]
     },
     "metadata": {},
     "output_type": "display_data"
    }
   ],
   "source": [
    "qmol = get_qmol(\"c1ccccc1\")\n",
    "smatch = get_substruct_match(mol, qmol)\n",
    "svg = get_svg(mol, smatch)\n",
    "display(\"image/svg+xml\", svg)"
   ]
  },
  {
   "cell_type": "markdown",
   "id": "jewish-auckland",
   "metadata": {},
   "source": [
    "# Load a molecule from SMILES, add hydrogens, generate a 3D conformer and get its molblock"
   ]
  },
  {
   "cell_type": "code",
   "execution_count": 5,
   "id": "designed-confidentiality",
   "metadata": {},
   "outputs": [
    {
     "name": "stdout",
     "output_type": "stream",
     "text": [
      "\n",
      "     RDKit          3D\n",
      "\n",
      " 21 21  0  0  0  0  0  0  0  0999 V2000\n",
      "   -2.6908   -2.3678    0.1146 C   0  0  0  0  0  0  0  0  0  0  0  0\n",
      "   -1.8138   -1.2318   -0.2670 C   0  0  0  0  0  0  0  0  0  0  0  0\n",
      "   -1.6853   -0.8432   -1.4665 O   0  0  0  0  0  0  0  0  0  0  0  0\n",
      "   -1.0824   -0.5232    0.6440 O   0  0  0  0  0  0  0  0  0  0  0  0\n",
      "   -0.2551    0.5321    0.3683 C   0  0  0  0  0  0  0  0  0  0  0  0\n",
      "   -0.6319    1.8579    0.3454 C   0  0  0  0  0  0  0  0  0  0  0  0\n",
      "    0.2376    2.8923    0.0618 C   0  0  0  0  0  0  0  0  0  0  0  0\n",
      "    1.5481    2.5806   -0.2119 C   0  0  0  0  0  0  0  0  0  0  0  0\n",
      "    1.9783    1.2718   -0.2026 C   0  0  0  0  0  0  0  0  0  0  0  0\n",
      "    1.0686    0.2537    0.0888 C   0  0  0  0  0  0  0  0  0  0  0  0\n",
      "    1.5645   -1.1166    0.0881 C   0  0  0  0  0  0  0  0  0  0  0  0\n",
      "    0.7995   -2.0819    0.3422 O   0  0  0  0  0  0  0  0  0  0  0  0\n",
      "    2.8901   -1.4080   -0.1907 O   0  0  0  0  0  0  0  0  0  0  0  0\n",
      "   -3.2691   -2.7326   -0.7343 H   0  0  0  0  0  0  0  0  0  0  0  0\n",
      "   -3.3804   -2.0153    0.8922 H   0  0  0  0  0  0  0  0  0  0  0  0\n",
      "   -2.0263   -3.1698    0.5028 H   0  0  0  0  0  0  0  0  0  0  0  0\n",
      "   -1.6594    2.0715    0.5626 H   0  0  0  0  0  0  0  0  0  0  0  0\n",
      "   -0.0851    3.9259    0.0506 H   0  0  0  0  0  0  0  0  0  0  0  0\n",
      "    2.2206    3.3985   -0.4327 H   0  0  0  0  0  0  0  0  0  0  0  0\n",
      "    3.0185    1.0748   -0.4241 H   0  0  0  0  0  0  0  0  0  0  0  0\n",
      "    3.2536   -2.3690   -0.1314 H   0  0  0  0  0  0  0  0  0  0  0  0\n",
      "  1  2  1  0\n",
      "  2  3  2  0\n",
      "  2  4  1  0\n",
      "  4  5  1  0\n",
      "  5  6  2  0\n",
      "  6  7  1  0\n",
      "  7  8  2  0\n",
      "  8  9  1  0\n",
      "  9 10  2  0\n",
      " 10 11  1  0\n",
      " 11 12  2  0\n",
      " 11 13  1  0\n",
      " 10  5  1  0\n",
      "  1 14  1  0\n",
      "  1 15  1  0\n",
      "  1 16  1  0\n",
      "  6 17  1  0\n",
      "  7 18  1  0\n",
      "  8 19  1  0\n",
      "  9 20  1  0\n",
      " 13 21  1  0\n",
      "M  END\n"
     ]
    }
   ],
   "source": [
    "mol = get_mol(\"CC(=O)Oc1ccccc1C(=O)O\")\n",
    "add_hs(mol)\n",
    "set_3d_coords(mol)\n",
    "print(get_molblock(mol))"
   ]
  },
  {
   "cell_type": "markdown",
   "id": "vietnamese-halifax",
   "metadata": {},
   "source": [
    "# Load a molecule and calculate a set of physicochemical descriptors and its morgan fingerprints"
   ]
  },
  {
   "cell_type": "code",
   "execution_count": 6,
   "id": "united-leisure",
   "metadata": {},
   "outputs": [
    {
     "name": "stdout",
     "output_type": "stream",
     "text": [
      "Dict{String, Any}(\"lipinskiHBA\" => 4.0, \"lipinskiHBD\" => 1.0, \"NumAromaticRings\" => 1.0, \"NumRings\" => 1.0, \"NumAromaticHeterocycles\" => 0.0, \"CrippenMR\" => 44.7103, \"labuteASA\" => 74.75705, \"NumHeterocycles\" => 0.0, \"chi0v\" => 6.98135, \"tpsa\" => 63.6, \"kappa1\" => 9.2496, \"chi3n\" => 1.37115, \"NumHeteroatoms\" => 4.0, \"chi1v\" => 3.61745, \"NumBridgeheadAtoms\" => 0.0, \"NumHBD\" => 1.0, \"kappa2\" => 3.70925, \"kappa3\" => 2.29741, \"NumSpiroAtoms\" => 0.0, \"Phi\" => 2.63916, \"chi1n\" => 3.61745, \"chi2n\" => 1.37115, \"NumHBA\" => 3.0, \"FractionCSP3\" => 0.11111, \"chi4n\" => 0.88717, \"chi0n\" => 6.98135, \"NumUnspecifiedAtomStereoCenters\" => 0.0, \"exactmw\" => 180.04225, \"amw\" => 180.15899, \"NumSaturatedRings\" => 0.0, \"NumAliphaticHeterocycles\" => 0.0, \"hallKierAlpha\" => -1.83999, \"NumAtomStereoCenters\" => 0.0, \"CrippenClogP\" => 1.3101, \"chi4v\" => 0.88717, \"NumAliphaticRings\" => 0.0, \"NumRotatableBonds\" => 2.0, \"chi2v\" => 1.37115, \"NumAmideBonds\" => 0.0, \"NumSaturatedHeterocycles\" => 0.0, \"chi3v\" => 1.37115)"
     ]
    }
   ],
   "source": [
    "mol = get_mol(\"CC(=O)Oc1ccccc1C(=O)O\")\n",
    "descs = get_descriptors(mol)\n",
    "print(descs)"
   ]
  },
  {
   "cell_type": "code",
   "execution_count": 7,
   "id": "reported-community",
   "metadata": {},
   "outputs": [
    {
     "name": "stdout",
     "output_type": "stream",
     "text": [
      "00000000000000000000000000000000000000000000000000000000000000000000000000000000000000000000000000000000000000000000000000000000000000000000000000000000000000000000000000000000000000000000000000000000000000000000000000000000000000000000000000000000000000000000000000000000000000000000000000000000000000000000000000000000000000000000000000000000000000000000000000000000000000000000000000000100000000000000000000000000000000000000000000000000000000000000000010000000000000000000000000000000000000000000000000000000000000000000000000000000000000000000000000000000000000000000000000000000000000000000000000000000000000000000000000000000000000000000000000100000000000000000000000000000000000000000000100000000000000000000000000000000000000000000000000000000000000000000000000000000000000000000000000000000000000010000000000000000000000000000000000000000000000000000000000000000000000000000000000000000000000000000010000000000000000000000000000000000000000000000000000000000000000000000000000000000000000000000000000000000010000000000000000010000000000010000000001000000000000000000000000000000100000000000000000000000000000000000000000000000000000000000000000000000000000000000000000000000000000000000000100000000000000000000000000000000000000000000000000000000000000000000000000000000000000000000000000000000000000000000000000000000000000000000000000000000000000000000000000000000000010000000000000000000000000000010000000000000000000000000000000000001000000000000000000001000000000000000000000000000000000000000000000000000000000000000000000000000000000000000000000000000000000000000000000000000000000000000000000000000100000000000000000000000000000000000000000000000000000000000000000000000000000000000000000000000000000000000000001000000000000000000001000000000000000000000000100000000000000000000000000000000000000000000000000000000000000000000000000000000000000000000000001000000000000000000000000000000000000000000010000000000000000000000000000000000000000000000000000100000000000000000000100000000000000000000000000000000000000000000000000000000"
     ]
    }
   ],
   "source": [
    "print(get_morgan_fp(mol))"
   ]
  },
  {
   "cell_type": "markdown",
   "id": "linear-expression",
   "metadata": {},
   "source": [
    "## Load 2 molecules and calculate their tanimoto similarity\n",
    "\n",
    "Tanimoto similarity is not currently included in the MinimalLib but it can be easily computed using few lines of Julia code"
   ]
  },
  {
   "cell_type": "code",
   "execution_count": 8,
   "id": "opened-basics",
   "metadata": {},
   "outputs": [
    {
     "data": {
      "text/plain": [
       "0.2222222222222222"
      ]
     },
     "execution_count": 8,
     "metadata": {},
     "output_type": "execute_result"
    }
   ],
   "source": [
    "function tanimoto(fpb1::String, fpb2::String, )::Float64\n",
    "\n",
    "    m1::Vector{UInt64} = reinterpret(UInt64, Vector{UInt8}(fpb1))\n",
    "    m2::Vector{UInt64} = reinterpret(UInt64, Vector{UInt8}(fpb2))\n",
    "\n",
    "    comm::Integer = 0\n",
    "    m1count::Integer = 0\n",
    "    m2count::Integer = 0\n",
    "    for i in 1:length(m1)\n",
    "        comm += count_ones(m1[i] & m2[i])\n",
    "        m1count += count_ones(m1[i])\n",
    "        m2count += count_ones(m2[i])\n",
    "    end\n",
    "    return comm / (m1count + m2count - comm)\n",
    "end\n",
    "\n",
    "mol1 = get_mol(\"CC(=O)Oc1ccccc1C(=O)O\")\n",
    "mol2 = get_mol(\"CC(=O)Nc1ccc(O)cc1\")\n",
    "\n",
    "fpb1 = get_morgan_fp_as_bytes(mol1)\n",
    "fpb2 = get_morgan_fp_as_bytes(mol2)\n",
    "\n",
    "tanimoto(fpb1, fpb2)"
   ]
  },
  {
   "cell_type": "markdown",
   "id": "removed-illness",
   "metadata": {},
   "source": [
    "count_ones uses CPU intrinsics (popcntq)"
   ]
  },
  {
   "cell_type": "code",
   "execution_count": 9,
   "id": "political-discharge",
   "metadata": {},
   "outputs": [
    {
     "name": "stdout",
     "output_type": "stream",
     "text": [
      "\t\u001b[0m.section\t\u001b[0m__TEXT\u001b[0m,\u001b[0m__text\u001b[0m,\u001b[0mregular\u001b[0m,\u001b[0mpure_instructions\n",
      "\u001b[90m; ┌ @ int.jl:372 within `count_ones'\u001b[39m\n",
      "\t\u001b[96m\u001b[1mpopcntq\u001b[22m\u001b[39m\t\u001b[0m%rdi\u001b[0m, \u001b[0m%rax\n",
      "\t\u001b[96m\u001b[1mretq\u001b[22m\u001b[39m\n",
      "\t\u001b[96m\u001b[1mnopw\u001b[22m\u001b[39m\t\u001b[0m%cs\u001b[0m:\u001b[33m(\u001b[39m\u001b[0m%rax\u001b[0m,\u001b[0m%rax\u001b[33m)\u001b[39m\n",
      "\u001b[90m; └\u001b[39m\n"
     ]
    }
   ],
   "source": [
    "code_native(count_ones,(UInt64,))"
   ]
  },
  {
   "cell_type": "markdown",
   "id": "rocky-plumbing",
   "metadata": {},
   "source": [
    "## Logging\n",
    "\n",
    "By default RDKit is not showing its warning/error messages"
   ]
  },
  {
   "cell_type": "code",
   "execution_count": 10,
   "id": "residential-orlando",
   "metadata": {},
   "outputs": [
    {
     "ename": "LoadError",
     "evalue": "error parsing the molecule, use enable_logging() to get more info",
     "output_type": "error",
     "traceback": [
      "error parsing the molecule, use enable_logging() to get more info",
      "",
      "Stacktrace:",
      " [1] error(s::String)",
      "   @ Base ./error.jl:33",
      " [2] get_mol(mol_string::String, details::Nothing)",
      "   @ RDKitMinimalLib ~/.julia/packages/RDKitMinimalLib/2AEbP/src/io.jl:26",
      " [3] get_mol(mol_string::String)",
      "   @ RDKitMinimalLib ~/.julia/packages/RDKitMinimalLib/2AEbP/src/io.jl:22",
      " [4] top-level scope",
      "   @ In[10]:2",
      " [5] eval",
      "   @ ./boot.jl:360 [inlined]",
      " [6] include_string(mapexpr::typeof(REPL.softscope), mod::Module, code::String, filename::String)",
      "   @ Base ./loading.jl:1094"
     ]
    }
   ],
   "source": [
    "# load an incorrect mol\n",
    "mol = get_mol(\"CC(=O)Oc1cccc1C(=O)O\")"
   ]
  },
  {
   "cell_type": "code",
   "execution_count": 11,
   "id": "forty-zimbabwe",
   "metadata": {},
   "outputs": [
    {
     "name": "stderr",
     "output_type": "stream",
     "text": [
      "[18:52:54] Can't kekulize mol.  Unkekulized atoms: 4 5 6 7 8\n",
      "\n"
     ]
    },
    {
     "ename": "LoadError",
     "evalue": "error parsing the molecule, use enable_logging() to get more info",
     "output_type": "error",
     "traceback": [
      "error parsing the molecule, use enable_logging() to get more info",
      "",
      "Stacktrace:",
      " [1] error(s::String)",
      "   @ Base ./error.jl:33",
      " [2] get_mol(mol_string::String, details::Nothing)",
      "   @ RDKitMinimalLib ~/.julia/packages/RDKitMinimalLib/2AEbP/src/io.jl:26",
      " [3] get_mol(mol_string::String)",
      "   @ RDKitMinimalLib ~/.julia/packages/RDKitMinimalLib/2AEbP/src/io.jl:22",
      " [4] top-level scope",
      "   @ In[11]:3",
      " [5] eval",
      "   @ ./boot.jl:360 [inlined]",
      " [6] include_string(mapexpr::typeof(REPL.softscope), mod::Module, code::String, filename::String)",
      "   @ Base ./loading.jl:1094"
     ]
    }
   ],
   "source": [
    "# enable logging as suggested to see RDKit warnings/errors when parsing molecules\n",
    "enable_logging()\n",
    "mol = get_mol(\"CC(=O)Oc1cccc1C(=O)O\")"
   ]
  },
  {
   "cell_type": "code",
   "execution_count": null,
   "id": "lesbian-glass",
   "metadata": {},
   "outputs": [],
   "source": []
  }
 ],
 "metadata": {
  "kernelspec": {
   "display_name": "Julia 1.6.0",
   "language": "julia",
   "name": "julia-1.6"
  },
  "language_info": {
   "file_extension": ".jl",
   "mimetype": "application/julia",
   "name": "julia",
   "version": "1.6.0"
  }
 },
 "nbformat": 4,
 "nbformat_minor": 5
}
